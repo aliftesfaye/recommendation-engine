{
 "cells": [
  {
   "cell_type": "code",
   "execution_count": 1,
   "id": "37a5cb3b",
   "metadata": {},
   "outputs": [],
   "source": [
    "import os"
   ]
  },
  {
   "cell_type": "code",
   "execution_count": 2,
   "id": "50461168",
   "metadata": {},
   "outputs": [
    {
     "data": {
      "text/plain": [
       "'d:\\\\recommendation-engine\\\\research'"
      ]
     },
     "execution_count": 2,
     "metadata": {},
     "output_type": "execute_result"
    }
   ],
   "source": [
    "%pwd"
   ]
  },
  {
   "cell_type": "code",
   "execution_count": 3,
   "id": "cadc0243",
   "metadata": {},
   "outputs": [],
   "source": [
    "os.chdir(\"../\")"
   ]
  },
  {
   "cell_type": "code",
   "execution_count": 4,
   "id": "83f86aac",
   "metadata": {},
   "outputs": [
    {
     "data": {
      "text/plain": [
       "'d:\\\\recommendation-engine'"
      ]
     },
     "execution_count": 4,
     "metadata": {},
     "output_type": "execute_result"
    }
   ],
   "source": [
    "%pwd"
   ]
  },
  {
   "cell_type": "code",
   "execution_count": 5,
   "id": "d9c8792d",
   "metadata": {},
   "outputs": [],
   "source": [
    "import pandas as pd"
   ]
  },
  {
   "cell_type": "code",
   "execution_count": 6,
   "id": "c9e97958",
   "metadata": {},
   "outputs": [
    {
     "data": {
      "text/html": [
       "<div>\n",
       "<style scoped>\n",
       "    .dataframe tbody tr th:only-of-type {\n",
       "        vertical-align: middle;\n",
       "    }\n",
       "\n",
       "    .dataframe tbody tr th {\n",
       "        vertical-align: top;\n",
       "    }\n",
       "\n",
       "    .dataframe thead th {\n",
       "        text-align: right;\n",
       "    }\n",
       "</style>\n",
       "<table border=\"1\" class=\"dataframe\">\n",
       "  <thead>\n",
       "    <tr style=\"text-align: right;\">\n",
       "      <th></th>\n",
       "      <th>user_id</th>\n",
       "      <th>liked_event_id</th>\n",
       "      <th>liked_event_organizer_id</th>\n",
       "      <th>like_id</th>\n",
       "    </tr>\n",
       "  </thead>\n",
       "  <tbody>\n",
       "    <tr>\n",
       "      <th>0</th>\n",
       "      <td>dd273811-54c2-4c13-b0a5-fca4f3b621b8</td>\n",
       "      <td>66fa3a5d-fb3d-4faf-a295-2b7456f18620</td>\n",
       "      <td>1aafbaa0-9efd-4d51-adbb-310e8a3355d5</td>\n",
       "      <td>12f33ebf-2424-43b6-a72d-d8bcdc9ce806</td>\n",
       "    </tr>\n",
       "    <tr>\n",
       "      <th>1</th>\n",
       "      <td>09c23f75-ed99-49e7-8a34-2d9eb0c7f991</td>\n",
       "      <td>87ab34fa-e294-4f40-a51a-546079da2463</td>\n",
       "      <td>53da9a59-b5be-4ce2-bd73-e79826611b1c</td>\n",
       "      <td>e6e31bc3-219d-49e2-8344-3bb30b9e5fcc</td>\n",
       "    </tr>\n",
       "    <tr>\n",
       "      <th>2</th>\n",
       "      <td>f81fffe9-8813-48f9-87dc-01853f46e603</td>\n",
       "      <td>6b660a1b-07da-4c64-876e-03542029ed15</td>\n",
       "      <td>fcd1270d-0dd3-41ee-b999-7d39768c3369</td>\n",
       "      <td>cb4e26e2-76fa-4042-bb7f-2433dcf4ca2f</td>\n",
       "    </tr>\n",
       "    <tr>\n",
       "      <th>3</th>\n",
       "      <td>bd4d04b9-98cc-4937-bf84-f3e092a30758</td>\n",
       "      <td>39def82b-1f0a-4278-9d37-1ce25daf4cae</td>\n",
       "      <td>d86d4720-3bf8-49f9-85e3-a2d1c37d4cce</td>\n",
       "      <td>97e6060e-83ed-4510-9dcd-01b16614b867</td>\n",
       "    </tr>\n",
       "    <tr>\n",
       "      <th>4</th>\n",
       "      <td>cec3a311-1115-4f88-bf7b-8f2e67b59196</td>\n",
       "      <td>ba8c9541-9d61-4163-bc64-d613685ef041</td>\n",
       "      <td>85ddc80b-ecf1-4895-b690-d1d3f23c9576</td>\n",
       "      <td>7cea1a78-d43b-4120-bab5-159fc832001b</td>\n",
       "    </tr>\n",
       "  </tbody>\n",
       "</table>\n",
       "</div>"
      ],
      "text/plain": [
       "                                user_id                        liked_event_id  \\\n",
       "0  dd273811-54c2-4c13-b0a5-fca4f3b621b8  66fa3a5d-fb3d-4faf-a295-2b7456f18620   \n",
       "1  09c23f75-ed99-49e7-8a34-2d9eb0c7f991  87ab34fa-e294-4f40-a51a-546079da2463   \n",
       "2  f81fffe9-8813-48f9-87dc-01853f46e603  6b660a1b-07da-4c64-876e-03542029ed15   \n",
       "3  bd4d04b9-98cc-4937-bf84-f3e092a30758  39def82b-1f0a-4278-9d37-1ce25daf4cae   \n",
       "4  cec3a311-1115-4f88-bf7b-8f2e67b59196  ba8c9541-9d61-4163-bc64-d613685ef041   \n",
       "\n",
       "               liked_event_organizer_id                               like_id  \n",
       "0  1aafbaa0-9efd-4d51-adbb-310e8a3355d5  12f33ebf-2424-43b6-a72d-d8bcdc9ce806  \n",
       "1  53da9a59-b5be-4ce2-bd73-e79826611b1c  e6e31bc3-219d-49e2-8344-3bb30b9e5fcc  \n",
       "2  fcd1270d-0dd3-41ee-b999-7d39768c3369  cb4e26e2-76fa-4042-bb7f-2433dcf4ca2f  \n",
       "3  d86d4720-3bf8-49f9-85e3-a2d1c37d4cce  97e6060e-83ed-4510-9dcd-01b16614b867  \n",
       "4  85ddc80b-ecf1-4895-b690-d1d3f23c9576  7cea1a78-d43b-4120-bab5-159fc832001b  "
      ]
     },
     "execution_count": 6,
     "metadata": {},
     "output_type": "execute_result"
    }
   ],
   "source": [
    "data1 = pd.read_csv(\"artifacts/data_ingestion/generated_data/bookings.csv\")\n",
    "data2 = pd.read_csv(\"artifacts/data_ingestion/generated_data/comments.csv\")\n",
    "data3 = pd.read_csv(\"artifacts/data_ingestion/generated_data/likes.csv\")\n",
    "data1.head()\n",
    "data2.head()\n",
    "data3.head()"
   ]
  },
  {
   "cell_type": "code",
   "execution_count": 7,
   "id": "3cb2f7a5",
   "metadata": {},
   "outputs": [
    {
     "name": "stdout",
     "output_type": "stream",
     "text": [
      "<class 'pandas.core.frame.DataFrame'>\n",
      "RangeIndex: 150000 entries, 0 to 149999\n",
      "Data columns (total 4 columns):\n",
      " #   Column                     Non-Null Count   Dtype \n",
      "---  ------                     --------------   ----- \n",
      " 0   user_id                    150000 non-null  object\n",
      " 1   booked_event_id            150000 non-null  object\n",
      " 2   booked_event_organizer_id  150000 non-null  object\n",
      " 3   booking_id                 150000 non-null  object\n",
      "dtypes: object(4)\n",
      "memory usage: 4.6+ MB\n"
     ]
    }
   ],
   "source": [
    "data1.info()"
   ]
  },
  {
   "cell_type": "code",
   "execution_count": 8,
   "id": "d1c41425",
   "metadata": {},
   "outputs": [],
   "source": [
    "from dataclasses import dataclass\n",
    "from pathlib import Path\n",
    "\n",
    "\n",
    "@dataclass(frozen=True)\n",
    "class DataValidationConfig:\n",
    "    root_dir: Path\n",
    "    STATUS_FILE: str\n",
    "    merged_data_url: Path\n",
    "    unzip_data_dir: Path\n",
    "    all_schema: dict"
   ]
  },
  {
   "cell_type": "code",
   "execution_count": 9,
   "id": "78235de1",
   "metadata": {},
   "outputs": [],
   "source": [
    "from src.hybrid_recommender.constants import *\n",
    "from src.hybrid_recommender.utils.common import read_yaml, create_directories"
   ]
  },
  {
   "cell_type": "code",
   "execution_count": 10,
   "id": "9f8582a4",
   "metadata": {},
   "outputs": [],
   "source": [
    "class ConfigurationManager:\n",
    "    def __init__(\n",
    "        self,\n",
    "        config_filepath = CONFIG_FILE_PATH,\n",
    "        params_filepath = PARAMS_FILE_PATH,\n",
    "        schema_filepath = SCHEMA_FILE_PATH):\n",
    "\n",
    "        self.config = read_yaml(config_filepath)\n",
    "        self.params = read_yaml(params_filepath)\n",
    "        self.schema = read_yaml(schema_filepath)\n",
    "\n",
    "        create_directories([self.config.artifacts_root])\n",
    "\n",
    "\n",
    "    \n",
    "    def get_data_validation_config(self) -> DataValidationConfig:\n",
    "        config = self.config.data_validation\n",
    "        schema = self.schema.COLUMNS\n",
    "\n",
    "        create_directories([config.root_dir])\n",
    "\n",
    "        data_validation_config = DataValidationConfig(\n",
    "            root_dir=config.root_dir,\n",
    "            STATUS_FILE=config.STATUS_FILE,\n",
    "            unzip_data_dir = config.unzip_data_dir,\n",
    "            merged_data_url = config.merged_data_url,\n",
    "            all_schema=schema,\n",
    "        )\n",
    "\n",
    "        return data_validation_config"
   ]
  },
  {
   "cell_type": "code",
   "execution_count": 11,
   "id": "4fbeea75",
   "metadata": {},
   "outputs": [],
   "source": [
    "import os\n",
    "from src.hybrid_recommender import logger\n"
   ]
  },
  {
   "cell_type": "code",
   "execution_count": 12,
   "id": "2da2fd8d",
   "metadata": {},
   "outputs": [],
   "source": [
    "class DataValiadtion:\n",
    "    def __init__(self, config: DataValidationConfig):\n",
    "        self.config = config\n",
    "\n",
    "\n",
    "    def validate_all_columns(self)-> bool:\n",
    "        try:\n",
    "            validation_status = None\n",
    "\n",
    "            data = pd.read_csv(self.config.merged_data_url)\n",
    "            all_cols = list(data.columns)\n",
    "\n",
    "            all_schema = self.config.all_schema.keys()\n",
    "\n",
    "            \n",
    "            for col in all_cols:\n",
    "                if col not in all_schema:\n",
    "                    validation_status = False\n",
    "                    with open(self.config.STATUS_FILE, 'w') as f:\n",
    "                        f.write(f\"Validation status: {validation_status}\")\n",
    "                else:\n",
    "                    validation_status = True\n",
    "                    with open(self.config.STATUS_FILE, 'w') as f:\n",
    "                        f.write(f\"Validation status: {validation_status}\")\n",
    "\n",
    "            return validation_status\n",
    "        \n",
    "        except Exception as e:\n",
    "            raise e"
   ]
  },
  {
   "cell_type": "code",
   "execution_count": 13,
   "id": "9460d604",
   "metadata": {},
   "outputs": [
    {
     "name": "stdout",
     "output_type": "stream",
     "text": [
      "[2025-07-01 12:12:35,496: INFO: common: yaml file: config\\config.yaml loaded successfully]\n",
      "[2025-07-01 12:12:35,496: INFO: common: yaml file: params.yaml loaded successfully]\n",
      "[2025-07-01 12:12:35,609: INFO: common: yaml file: schema.yaml loaded successfully]\n",
      "[2025-07-01 12:12:35,609: INFO: common: created directory at: artifacts]\n",
      "[2025-07-01 12:12:35,609: INFO: common: created directory at: artifacts/data_validation]\n"
     ]
    }
   ],
   "source": [
    "try:\n",
    "    config = ConfigurationManager()\n",
    "    data_validation_config = config.get_data_validation_config()\n",
    "    data_validation = DataValiadtion(config=data_validation_config)\n",
    "    data_validation.validate_all_columns()\n",
    "except Exception as e:\n",
    "    raise e"
   ]
  }
 ],
 "metadata": {
  "kernelspec": {
   "display_name": "recommendation-engine-env",
   "language": "python",
   "name": "python3"
  },
  "language_info": {
   "codemirror_mode": {
    "name": "ipython",
    "version": 3
   },
   "file_extension": ".py",
   "mimetype": "text/x-python",
   "name": "python",
   "nbconvert_exporter": "python",
   "pygments_lexer": "ipython3",
   "version": "3.12.3"
  }
 },
 "nbformat": 4,
 "nbformat_minor": 5
}
