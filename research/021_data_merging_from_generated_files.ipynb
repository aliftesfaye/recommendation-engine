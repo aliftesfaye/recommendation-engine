{
 "cells": [
  {
   "cell_type": "code",
   "execution_count": 1,
   "id": "37a5cb3b",
   "metadata": {},
   "outputs": [],
   "source": [
    "import os"
   ]
  },
  {
   "cell_type": "code",
   "execution_count": 2,
   "id": "50461168",
   "metadata": {},
   "outputs": [
    {
     "data": {
      "text/plain": [
       "'d:\\\\recommendation-engine\\\\research'"
      ]
     },
     "execution_count": 2,
     "metadata": {},
     "output_type": "execute_result"
    }
   ],
   "source": [
    "%pwd"
   ]
  },
  {
   "cell_type": "code",
   "execution_count": 3,
   "id": "cadc0243",
   "metadata": {},
   "outputs": [],
   "source": [
    "os.chdir(\"../\")"
   ]
  },
  {
   "cell_type": "code",
   "execution_count": 4,
   "id": "83f86aac",
   "metadata": {},
   "outputs": [
    {
     "data": {
      "text/plain": [
       "'d:\\\\recommendation-engine'"
      ]
     },
     "execution_count": 4,
     "metadata": {},
     "output_type": "execute_result"
    }
   ],
   "source": [
    "%pwd"
   ]
  },
  {
   "cell_type": "code",
   "execution_count": 5,
   "id": "d9c8792d",
   "metadata": {},
   "outputs": [],
   "source": [
    "import pandas as pd"
   ]
  },
  {
   "cell_type": "code",
   "execution_count": 6,
   "id": "c9e97958",
   "metadata": {},
   "outputs": [
    {
     "data": {
      "text/html": [
       "<div>\n",
       "<style scoped>\n",
       "    .dataframe tbody tr th:only-of-type {\n",
       "        vertical-align: middle;\n",
       "    }\n",
       "\n",
       "    .dataframe tbody tr th {\n",
       "        vertical-align: top;\n",
       "    }\n",
       "\n",
       "    .dataframe thead th {\n",
       "        text-align: right;\n",
       "    }\n",
       "</style>\n",
       "<table border=\"1\" class=\"dataframe\">\n",
       "  <thead>\n",
       "    <tr style=\"text-align: right;\">\n",
       "      <th></th>\n",
       "      <th>user_id</th>\n",
       "      <th>liked_event_id</th>\n",
       "      <th>liked_event_organizer_id</th>\n",
       "      <th>like_id</th>\n",
       "    </tr>\n",
       "  </thead>\n",
       "  <tbody>\n",
       "    <tr>\n",
       "      <th>0</th>\n",
       "      <td>1e896ff4-117b-4484-ac1d-fe3e753a4914</td>\n",
       "      <td>23f7e309-a99d-41a6-afa3-a05e33ba5432</td>\n",
       "      <td>b7a02932-0ce0-4769-9a3b-e4a398838ddf</td>\n",
       "      <td>b033d198-4984-4370-aa0c-c3d08399bde9</td>\n",
       "    </tr>\n",
       "    <tr>\n",
       "      <th>1</th>\n",
       "      <td>6d6c7236-649e-4b05-99e9-ddb085891243</td>\n",
       "      <td>03690412-d735-442b-bd09-8e55333c4ff1</td>\n",
       "      <td>853b4ab4-d45d-4fec-93cd-b74b044bb43a</td>\n",
       "      <td>6fa85722-896b-4bda-a8d3-dc70e82c7b90</td>\n",
       "    </tr>\n",
       "    <tr>\n",
       "      <th>2</th>\n",
       "      <td>b69ecd8b-a0cf-45fe-9916-3fe400c81cc9</td>\n",
       "      <td>74afaf8f-0e27-4e69-8a07-7795b4d2dca5</td>\n",
       "      <td>0a83494b-7db2-4f9d-9d77-58ec9cdb8c5f</td>\n",
       "      <td>ce741b3d-d137-4744-8ec4-4f00f9b954f7</td>\n",
       "    </tr>\n",
       "    <tr>\n",
       "      <th>3</th>\n",
       "      <td>e6cd18fa-dd5f-4cf5-b45c-d30d9c957085</td>\n",
       "      <td>95a4ee4c-f65d-422b-be57-ee954a9e19f3</td>\n",
       "      <td>918faa93-f824-4c15-8106-0a75a421f132</td>\n",
       "      <td>ff6fa94b-9d51-4b3f-b252-f1d7b0018c84</td>\n",
       "    </tr>\n",
       "    <tr>\n",
       "      <th>4</th>\n",
       "      <td>ad574736-b69c-44d9-9848-7902615012f5</td>\n",
       "      <td>20487871-ae5b-42f4-a1ed-ddd467748d6d</td>\n",
       "      <td>24b778a8-b330-4434-b505-3d9946db125c</td>\n",
       "      <td>079ebc49-6005-459b-9446-187d53443263</td>\n",
       "    </tr>\n",
       "  </tbody>\n",
       "</table>\n",
       "</div>"
      ],
      "text/plain": [
       "                                user_id                        liked_event_id  \\\n",
       "0  1e896ff4-117b-4484-ac1d-fe3e753a4914  23f7e309-a99d-41a6-afa3-a05e33ba5432   \n",
       "1  6d6c7236-649e-4b05-99e9-ddb085891243  03690412-d735-442b-bd09-8e55333c4ff1   \n",
       "2  b69ecd8b-a0cf-45fe-9916-3fe400c81cc9  74afaf8f-0e27-4e69-8a07-7795b4d2dca5   \n",
       "3  e6cd18fa-dd5f-4cf5-b45c-d30d9c957085  95a4ee4c-f65d-422b-be57-ee954a9e19f3   \n",
       "4  ad574736-b69c-44d9-9848-7902615012f5  20487871-ae5b-42f4-a1ed-ddd467748d6d   \n",
       "\n",
       "               liked_event_organizer_id                               like_id  \n",
       "0  b7a02932-0ce0-4769-9a3b-e4a398838ddf  b033d198-4984-4370-aa0c-c3d08399bde9  \n",
       "1  853b4ab4-d45d-4fec-93cd-b74b044bb43a  6fa85722-896b-4bda-a8d3-dc70e82c7b90  \n",
       "2  0a83494b-7db2-4f9d-9d77-58ec9cdb8c5f  ce741b3d-d137-4744-8ec4-4f00f9b954f7  \n",
       "3  918faa93-f824-4c15-8106-0a75a421f132  ff6fa94b-9d51-4b3f-b252-f1d7b0018c84  \n",
       "4  24b778a8-b330-4434-b505-3d9946db125c  079ebc49-6005-459b-9446-187d53443263  "
      ]
     },
     "execution_count": 6,
     "metadata": {},
     "output_type": "execute_result"
    }
   ],
   "source": [
    "bookings = pd.read_csv(\"artifacts/data_ingestion/generated_data/bookings.csv\")\n",
    "comments = pd.read_csv(\"artifacts/data_ingestion/generated_data/comments.csv\")\n",
    "likes = pd.read_csv(\"artifacts/data_ingestion/generated_data/likes.csv\")\n",
    "bookings.head()\n",
    "comments.head()\n",
    "likes.head()"
   ]
  },
  {
   "cell_type": "code",
   "execution_count": 7,
   "id": "3cb2f7a5",
   "metadata": {},
   "outputs": [
    {
     "name": "stdout",
     "output_type": "stream",
     "text": [
      "<class 'pandas.core.frame.DataFrame'>\n",
      "RangeIndex: 150000 entries, 0 to 149999\n",
      "Data columns (total 4 columns):\n",
      " #   Column                     Non-Null Count   Dtype \n",
      "---  ------                     --------------   ----- \n",
      " 0   user_id                    150000 non-null  object\n",
      " 1   booked_event_id            150000 non-null  object\n",
      " 2   booked_event_organizer_id  150000 non-null  object\n",
      " 3   booking_id                 150000 non-null  object\n",
      "dtypes: object(4)\n",
      "memory usage: 4.6+ MB\n"
     ]
    }
   ],
   "source": [
    "bookings.info()\n"
   ]
  },
  {
   "cell_type": "code",
   "execution_count": 8,
   "id": "d6bcc184",
   "metadata": {},
   "outputs": [
    {
     "name": "stdout",
     "output_type": "stream",
     "text": [
      "<class 'pandas.core.frame.DataFrame'>\n",
      "RangeIndex: 245397 entries, 0 to 245396\n",
      "Data columns (total 4 columns):\n",
      " #   Column                        Non-Null Count   Dtype \n",
      "---  ------                        --------------   ----- \n",
      " 0   user_id                       245397 non-null  object\n",
      " 1   commented_event_id            245397 non-null  object\n",
      " 2   commented_event_organizer_id  245397 non-null  object\n",
      " 3   comment_id                    245397 non-null  object\n",
      "dtypes: object(4)\n",
      "memory usage: 7.5+ MB\n"
     ]
    }
   ],
   "source": [
    "comments.info()\n"
   ]
  },
  {
   "cell_type": "code",
   "execution_count": 9,
   "id": "2fd6956e",
   "metadata": {},
   "outputs": [
    {
     "name": "stdout",
     "output_type": "stream",
     "text": [
      "<class 'pandas.core.frame.DataFrame'>\n",
      "RangeIndex: 145397 entries, 0 to 145396\n",
      "Data columns (total 4 columns):\n",
      " #   Column                    Non-Null Count   Dtype \n",
      "---  ------                    --------------   ----- \n",
      " 0   user_id                   145397 non-null  object\n",
      " 1   liked_event_id            145397 non-null  object\n",
      " 2   liked_event_organizer_id  145397 non-null  object\n",
      " 3   like_id                   145397 non-null  object\n",
      "dtypes: object(4)\n",
      "memory usage: 4.4+ MB\n"
     ]
    }
   ],
   "source": [
    "likes.info()"
   ]
  },
  {
   "cell_type": "code",
   "execution_count": 10,
   "id": "d1c41425",
   "metadata": {},
   "outputs": [
    {
     "name": "stdout",
     "output_type": "stream",
     "text": [
      "Merged data saved successfully!\n",
      "Final dataset shape: (200000, 9)\n",
      "                                     user_id  \\\n",
      "119737  852d7b2a-de11-46a9-ae0b-d626440afe3d   \n",
      "72272   f4b93c37-21b6-4772-a73d-180a30988e51   \n",
      "158154  3187edcc-71d0-4e50-8e25-0915ef32ac8f   \n",
      "65426   93a77014-edb4-4019-9f4b-bb6b249fa4c6   \n",
      "30074   6d909574-9714-4e3f-939f-9d05a1d1337d   \n",
      "\n",
      "                                    event_id  is_booked  num_bookings  \\\n",
      "119737  ebf7d8c2-2af0-432d-8b76-b82e9565cea0          0             0   \n",
      "72272   6aa420d9-0d70-4f35-a3c3-3d6547e0a5de          0             0   \n",
      "158154  b1e91aca-c168-4770-a5a8-e05f93b2a2c6          1             4   \n",
      "65426   13c0e345-5370-4751-87e1-4a1d58dc99df          0             0   \n",
      "30074   d1622d96-daba-4c09-a5b2-4d96647652c7          0             0   \n",
      "\n",
      "        is_liked  num_likes  is_commented  num_comments  \\\n",
      "119737         0          0             1             1   \n",
      "72272          0          0             1             3   \n",
      "158154         0          0             0             0   \n",
      "65426          0          0             1             1   \n",
      "30074          0          0             1             1   \n",
      "\n",
      "                                organizer_id  \n",
      "119737  327f5279-8dec-41d6-9c02-fd39461862f7  \n",
      "72272   1391bcdf-d7d8-4a71-b940-ed0285eb87b4  \n",
      "158154  c09db688-ff57-42f1-98ff-272ad18a649f  \n",
      "65426   4aaee05e-6a57-482d-8f37-7b46eaf93caf  \n",
      "30074   1d62f5ac-eaec-494f-9655-5b1039c2d1c8  \n"
     ]
    }
   ],
   "source": [
    "# Standardize column names across all datasets\n",
    "bookings = bookings.rename(columns={\n",
    "    'booked_event_id': 'event_id',\n",
    "    'booked_event_organizer_id': 'organizer_id',\n",
    "    'booking_id': 'id'\n",
    "})\n",
    "\n",
    "comments = comments.rename(columns={\n",
    "    'commented_event_id': 'event_id',\n",
    "    'commented_event_organizer_id': 'organizer_id',\n",
    "    'comment_id': 'id'\n",
    "})\n",
    "\n",
    "likes = likes.rename(columns={\n",
    "    'liked_event_id': 'event_id',\n",
    "    'liked_event_organizer_id': 'organizer_id',\n",
    "    'like_id': 'id'\n",
    "})\n",
    "\n",
    "# Create source-specific DataFrames with indicator columns\n",
    "bookings_df = bookings[['user_id', 'event_id', 'organizer_id']].copy()\n",
    "bookings_df['is_booked'] = 1\n",
    "bookings_df['num_bookings'] = 1\n",
    "\n",
    "comments_df = comments[['user_id', 'event_id', 'organizer_id']].copy()\n",
    "comments_df['is_commented'] = 1\n",
    "comments_df['num_comments'] = 1\n",
    "\n",
    "likes_df = likes[['user_id', 'event_id', 'organizer_id']].copy()\n",
    "likes_df['is_liked'] = 1\n",
    "likes_df['num_likes'] = 1\n",
    "\n",
    "# Get all unique user-event pairs\n",
    "unique_pairs = pd.concat([\n",
    "    bookings[['user_id', 'event_id']],\n",
    "    comments[['user_id', 'event_id']],\n",
    "    likes[['user_id', 'event_id']]\n",
    "]).drop_duplicates()\n",
    "\n",
    "# Randomly select 100,000 unique pairs if we have more than that\n",
    "if len(unique_pairs) > 200000:\n",
    "    unique_pairs = unique_pairs.sample(n=200000, random_state=42)\n",
    "\n",
    "# Get consistent organizer_id mapping (most frequent for each event)\n",
    "organizer_mapping = pd.concat([\n",
    "    bookings[['event_id', 'organizer_id']],\n",
    "    comments[['event_id', 'organizer_id']],\n",
    "    likes[['event_id', 'organizer_id']]\n",
    "]).groupby('event_id')['organizer_id'].agg(lambda x: x.mode()[0]).to_dict()\n",
    "\n",
    "# Merge all interaction types\n",
    "result = unique_pairs.copy()\n",
    "\n",
    "# Merge booking data\n",
    "result = result.merge(\n",
    "    bookings_df.groupby(['user_id', 'event_id']).agg({\n",
    "        'is_booked': 'max',\n",
    "        'num_bookings': 'sum',\n",
    "        'organizer_id': 'first'\n",
    "    }).reset_index(),\n",
    "    on=['user_id', 'event_id'],\n",
    "    how='left'\n",
    ")\n",
    "\n",
    "# Merge comment data\n",
    "result = result.merge(\n",
    "    comments_df.groupby(['user_id', 'event_id']).agg({\n",
    "        'is_commented': 'max',\n",
    "        'num_comments': 'sum',\n",
    "        'organizer_id': 'first'\n",
    "    }).reset_index(),\n",
    "    on=['user_id', 'event_id'],\n",
    "    how='left'\n",
    ")\n",
    "\n",
    "# Merge like data\n",
    "result = result.merge(\n",
    "    likes_df.groupby(['user_id', 'event_id']).agg({\n",
    "        'is_liked': 'max',\n",
    "        'num_likes': 'sum',\n",
    "        'organizer_id': 'first'\n",
    "    }).reset_index(),\n",
    "    on=['user_id', 'event_id'],\n",
    "    how='left'\n",
    ")\n",
    "\n",
    "# Fill NA values with 0 for indicator and count columns\n",
    "for col in ['is_booked', 'num_bookings', 'is_commented', 'num_comments', 'is_liked', 'num_likes']:\n",
    "    result[col] = result[col].fillna(0).astype(int)\n",
    "\n",
    "# Consolidate organizer_id (take first non-NA value)\n",
    "result['organizer_id'] = (result['organizer_id_x']\n",
    "                         .fillna(result['organizer_id_y'])\n",
    "                         .fillna(result['organizer_id']))\n",
    "\n",
    "# If still missing, use our mapping\n",
    "result['organizer_id'] = result['organizer_id'].fillna(result['event_id'].map(organizer_mapping))\n",
    "\n",
    "# Select final columns\n",
    "final_data = result[[\n",
    "    'user_id', \n",
    "    'event_id', \n",
    "    'is_booked',\n",
    "    'num_bookings',\n",
    "    'is_liked',\n",
    "    'num_likes',\n",
    "    'is_commented', \n",
    "    'num_comments', \n",
    "    'organizer_id'\n",
    "]]\n",
    "\n",
    "# Ensure we have exactly 100,000 records (in case some merges added duplicates)\n",
    "final_data = final_data.drop_duplicates().sample(n=min(200000, len(final_data)), random_state=42)\n",
    "\n",
    "# Save the merged data\n",
    "final_data.to_csv(\"artifacts/data_ingestion/generated_data/merged_interactions.csv\", index=False)\n",
    "\n",
    "print(\"Merged data saved successfully!\")\n",
    "print(f\"Final dataset shape: {final_data.shape}\")\n",
    "print(final_data.head())"
   ]
  },
  {
   "cell_type": "code",
   "execution_count": null,
   "id": "78235de1",
   "metadata": {},
   "outputs": [],
   "source": []
  }
 ],
 "metadata": {
  "kernelspec": {
   "display_name": "recommendation-engine-env",
   "language": "python",
   "name": "python3"
  },
  "language_info": {
   "codemirror_mode": {
    "name": "ipython",
    "version": 3
   },
   "file_extension": ".py",
   "mimetype": "text/x-python",
   "name": "python",
   "nbconvert_exporter": "python",
   "pygments_lexer": "ipython3",
   "version": "3.12.3"
  }
 },
 "nbformat": 4,
 "nbformat_minor": 5
}
