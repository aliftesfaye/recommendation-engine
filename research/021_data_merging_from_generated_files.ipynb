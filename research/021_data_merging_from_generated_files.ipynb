{
 "cells": [
  {
   "cell_type": "code",
   "execution_count": 1,
   "id": "37a5cb3b",
   "metadata": {},
   "outputs": [],
   "source": [
    "import os"
   ]
  },
  {
   "cell_type": "code",
   "execution_count": 2,
   "id": "50461168",
   "metadata": {},
   "outputs": [
    {
     "data": {
      "text/plain": [
       "'d:\\\\recommendation-engine\\\\research'"
      ]
     },
     "execution_count": 2,
     "metadata": {},
     "output_type": "execute_result"
    }
   ],
   "source": [
    "%pwd"
   ]
  },
  {
   "cell_type": "code",
   "execution_count": 3,
   "id": "cadc0243",
   "metadata": {},
   "outputs": [],
   "source": [
    "os.chdir(\"../\")"
   ]
  },
  {
   "cell_type": "code",
   "execution_count": 4,
   "id": "83f86aac",
   "metadata": {},
   "outputs": [
    {
     "data": {
      "text/plain": [
       "'d:\\\\recommendation-engine'"
      ]
     },
     "execution_count": 4,
     "metadata": {},
     "output_type": "execute_result"
    }
   ],
   "source": [
    "%pwd"
   ]
  },
  {
   "cell_type": "code",
   "execution_count": 5,
   "id": "d9c8792d",
   "metadata": {},
   "outputs": [],
   "source": [
    "import pandas as pd"
   ]
  },
  {
   "cell_type": "code",
   "execution_count": 6,
   "id": "c9e97958",
   "metadata": {},
   "outputs": [
    {
     "data": {
      "text/html": [
       "<div>\n",
       "<style scoped>\n",
       "    .dataframe tbody tr th:only-of-type {\n",
       "        vertical-align: middle;\n",
       "    }\n",
       "\n",
       "    .dataframe tbody tr th {\n",
       "        vertical-align: top;\n",
       "    }\n",
       "\n",
       "    .dataframe thead th {\n",
       "        text-align: right;\n",
       "    }\n",
       "</style>\n",
       "<table border=\"1\" class=\"dataframe\">\n",
       "  <thead>\n",
       "    <tr style=\"text-align: right;\">\n",
       "      <th></th>\n",
       "      <th>user_id</th>\n",
       "      <th>liked_event_id</th>\n",
       "      <th>liked_event_organizer_id</th>\n",
       "      <th>like_id</th>\n",
       "    </tr>\n",
       "  </thead>\n",
       "  <tbody>\n",
       "    <tr>\n",
       "      <th>0</th>\n",
       "      <td>c58d422b-c612-4088-8645-6b65e8de2992</td>\n",
       "      <td>f36541da-a645-40ea-8d0c-dd11452b36ef</td>\n",
       "      <td>545c1990-0afa-4916-9699-bd6201976dfe</td>\n",
       "      <td>7f7acffe-72cd-4342-9a76-b9121d1081fb</td>\n",
       "    </tr>\n",
       "    <tr>\n",
       "      <th>1</th>\n",
       "      <td>f4ba7042-6fae-4a7a-ab43-cd20bbcb0979</td>\n",
       "      <td>f3159360-6da4-42f4-99d7-34b078d194da</td>\n",
       "      <td>14257c8a-014a-4a69-a3ea-4bcc57a0396f</td>\n",
       "      <td>340e2498-0efb-4716-b1d3-448c40657b9c</td>\n",
       "    </tr>\n",
       "    <tr>\n",
       "      <th>2</th>\n",
       "      <td>5e093549-092a-4341-83a0-6a2164cc84f3</td>\n",
       "      <td>6b3f6145-572e-4494-87f5-5e5891635eff</td>\n",
       "      <td>b173f9c2-3825-4c87-a724-99c2882030e6</td>\n",
       "      <td>b8fb93c9-08cd-4403-817a-2b1650c3b936</td>\n",
       "    </tr>\n",
       "    <tr>\n",
       "      <th>3</th>\n",
       "      <td>ed762490-2c8a-4126-aae4-65927fd6c998</td>\n",
       "      <td>0f4b8b49-4acf-42a3-b76c-dd2452c52434</td>\n",
       "      <td>42409373-2ba7-4322-a0b5-1aa437afec57</td>\n",
       "      <td>6d639090-faad-4f44-9662-d3624a16d07f</td>\n",
       "    </tr>\n",
       "    <tr>\n",
       "      <th>4</th>\n",
       "      <td>63211825-4aa2-498f-b5df-a853ee0df8a8</td>\n",
       "      <td>0c8e254b-96bd-45a0-bfff-232a3ed50ba6</td>\n",
       "      <td>5a0e9844-ecb1-4ccf-8b50-a6bc118872f5</td>\n",
       "      <td>badb04e3-7c28-4f00-9784-0968fe10f12f</td>\n",
       "    </tr>\n",
       "  </tbody>\n",
       "</table>\n",
       "</div>"
      ],
      "text/plain": [
       "                                user_id                        liked_event_id  \\\n",
       "0  c58d422b-c612-4088-8645-6b65e8de2992  f36541da-a645-40ea-8d0c-dd11452b36ef   \n",
       "1  f4ba7042-6fae-4a7a-ab43-cd20bbcb0979  f3159360-6da4-42f4-99d7-34b078d194da   \n",
       "2  5e093549-092a-4341-83a0-6a2164cc84f3  6b3f6145-572e-4494-87f5-5e5891635eff   \n",
       "3  ed762490-2c8a-4126-aae4-65927fd6c998  0f4b8b49-4acf-42a3-b76c-dd2452c52434   \n",
       "4  63211825-4aa2-498f-b5df-a853ee0df8a8  0c8e254b-96bd-45a0-bfff-232a3ed50ba6   \n",
       "\n",
       "               liked_event_organizer_id                               like_id  \n",
       "0  545c1990-0afa-4916-9699-bd6201976dfe  7f7acffe-72cd-4342-9a76-b9121d1081fb  \n",
       "1  14257c8a-014a-4a69-a3ea-4bcc57a0396f  340e2498-0efb-4716-b1d3-448c40657b9c  \n",
       "2  b173f9c2-3825-4c87-a724-99c2882030e6  b8fb93c9-08cd-4403-817a-2b1650c3b936  \n",
       "3  42409373-2ba7-4322-a0b5-1aa437afec57  6d639090-faad-4f44-9662-d3624a16d07f  \n",
       "4  5a0e9844-ecb1-4ccf-8b50-a6bc118872f5  badb04e3-7c28-4f00-9784-0968fe10f12f  "
      ]
     },
     "execution_count": 6,
     "metadata": {},
     "output_type": "execute_result"
    }
   ],
   "source": [
    "bookings = pd.read_csv(\"artifacts/data_ingestion/generated_data/bookings.csv\")\n",
    "comments = pd.read_csv(\"artifacts/data_ingestion/generated_data/comments.csv\")\n",
    "likes = pd.read_csv(\"artifacts/data_ingestion/generated_data/likes.csv\")\n",
    "bookings.head()\n",
    "comments.head()\n",
    "likes.head()"
   ]
  },
  {
   "cell_type": "code",
   "execution_count": 7,
   "id": "3cb2f7a5",
   "metadata": {},
   "outputs": [
    {
     "name": "stdout",
     "output_type": "stream",
     "text": [
      "<class 'pandas.core.frame.DataFrame'>\n",
      "RangeIndex: 150000 entries, 0 to 149999\n",
      "Data columns (total 4 columns):\n",
      " #   Column                     Non-Null Count   Dtype \n",
      "---  ------                     --------------   ----- \n",
      " 0   user_id                    150000 non-null  object\n",
      " 1   booked_event_id            150000 non-null  object\n",
      " 2   booked_event_organizer_id  150000 non-null  object\n",
      " 3   booking_id                 150000 non-null  object\n",
      "dtypes: object(4)\n",
      "memory usage: 4.6+ MB\n"
     ]
    }
   ],
   "source": [
    "bookings.info()\n"
   ]
  },
  {
   "cell_type": "code",
   "execution_count": 8,
   "id": "d6bcc184",
   "metadata": {},
   "outputs": [
    {
     "name": "stdout",
     "output_type": "stream",
     "text": [
      "<class 'pandas.core.frame.DataFrame'>\n",
      "RangeIndex: 245397 entries, 0 to 245396\n",
      "Data columns (total 4 columns):\n",
      " #   Column                        Non-Null Count   Dtype \n",
      "---  ------                        --------------   ----- \n",
      " 0   user_id                       245397 non-null  object\n",
      " 1   commented_event_id            245397 non-null  object\n",
      " 2   commented_event_organizer_id  245397 non-null  object\n",
      " 3   comment_id                    245397 non-null  object\n",
      "dtypes: object(4)\n",
      "memory usage: 7.5+ MB\n"
     ]
    }
   ],
   "source": [
    "comments.info()\n"
   ]
  },
  {
   "cell_type": "code",
   "execution_count": 9,
   "id": "2fd6956e",
   "metadata": {},
   "outputs": [
    {
     "name": "stdout",
     "output_type": "stream",
     "text": [
      "<class 'pandas.core.frame.DataFrame'>\n",
      "RangeIndex: 145397 entries, 0 to 145396\n",
      "Data columns (total 4 columns):\n",
      " #   Column                    Non-Null Count   Dtype \n",
      "---  ------                    --------------   ----- \n",
      " 0   user_id                   145397 non-null  object\n",
      " 1   liked_event_id            145397 non-null  object\n",
      " 2   liked_event_organizer_id  145397 non-null  object\n",
      " 3   like_id                   145397 non-null  object\n",
      "dtypes: object(4)\n",
      "memory usage: 4.4+ MB\n"
     ]
    }
   ],
   "source": [
    "likes.info()"
   ]
  },
  {
   "cell_type": "code",
   "execution_count": 10,
   "id": "d1c41425",
   "metadata": {},
   "outputs": [
    {
     "name": "stdout",
     "output_type": "stream",
     "text": [
      "Merged data saved successfully!\n",
      "Final dataset shape: (200000, 9)\n",
      "                                     user_id  \\\n",
      "119737  f8b4b424-e696-46bb-924f-baec27b9fc0b   \n",
      "72272   c07b8075-609c-4a1c-8d38-cb2863f38bda   \n",
      "158154  96da84b0-4dc9-481e-be8c-7c65d12c317b   \n",
      "65426   706a00bf-d542-4e7a-96bf-a158b7dc004d   \n",
      "30074   069c6f09-ffbb-41c7-b813-06d7b9f11b5d   \n",
      "\n",
      "                                    event_id  is_booked  num_bookings  \\\n",
      "119737  ec8ff257-3f56-43fc-a8e2-7e9730cb4f1f          0             0   \n",
      "72272   01a5a968-4ae3-42f5-9ce4-edd11b7595d4          0             0   \n",
      "158154  a48a16a6-b307-4c70-9f3e-aa618d6da9fb          1             4   \n",
      "65426   f937f03c-fe81-4359-a7a9-79cf0185c5d0          0             0   \n",
      "30074   8b366abc-c53b-4b85-8881-1ecdb9af2a9a          0             0   \n",
      "\n",
      "        is_liked  num_likes  is_commented  num_comments  \\\n",
      "119737         0          0             1             1   \n",
      "72272          0          0             1             3   \n",
      "158154         0          0             0             0   \n",
      "65426          0          0             1             1   \n",
      "30074          0          0             1             1   \n",
      "\n",
      "                                organizer_id  \n",
      "119737  f090b493-599e-44cb-ba8c-e4bba8cea958  \n",
      "72272   7d9a2ae2-5105-4d26-9faa-837b06294c5c  \n",
      "158154  c35f7405-49db-460d-be0e-27b097190067  \n",
      "65426   5a80ea7f-ae54-49ad-92ae-acd00950916a  \n",
      "30074   222f15f9-5d0e-4e78-bf4c-67bea2946984  \n"
     ]
    }
   ],
   "source": [
    "# Standardize column names across all datasets\n",
    "bookings = bookings.rename(columns={\n",
    "    'booked_event_id': 'event_id',\n",
    "    'booked_event_organizer_id': 'organizer_id',\n",
    "    'booking_id': 'id'\n",
    "})\n",
    "\n",
    "comments = comments.rename(columns={\n",
    "    'commented_event_id': 'event_id',\n",
    "    'commented_event_organizer_id': 'organizer_id',\n",
    "    'comment_id': 'id'\n",
    "})\n",
    "\n",
    "likes = likes.rename(columns={\n",
    "    'liked_event_id': 'event_id',\n",
    "    'liked_event_organizer_id': 'organizer_id',\n",
    "    'like_id': 'id'\n",
    "})\n",
    "\n",
    "# Create source-specific DataFrames with indicator columns\n",
    "bookings_df = bookings[['user_id', 'event_id', 'organizer_id']].copy()\n",
    "bookings_df['is_booked'] = 1\n",
    "bookings_df['num_bookings'] = 1\n",
    "\n",
    "comments_df = comments[['user_id', 'event_id', 'organizer_id']].copy()\n",
    "comments_df['is_commented'] = 1\n",
    "comments_df['num_comments'] = 1\n",
    "\n",
    "likes_df = likes[['user_id', 'event_id', 'organizer_id']].copy()\n",
    "likes_df['is_liked'] = 1\n",
    "likes_df['num_likes'] = 1\n",
    "\n",
    "# Get all unique user-event pairs\n",
    "unique_pairs = pd.concat([\n",
    "    bookings[['user_id', 'event_id']],\n",
    "    comments[['user_id', 'event_id']],\n",
    "    likes[['user_id', 'event_id']]\n",
    "]).drop_duplicates()\n",
    "\n",
    "# Randomly select 100,000 unique pairs if we have more than that\n",
    "if len(unique_pairs) > 200000:\n",
    "    unique_pairs = unique_pairs.sample(n=200000, random_state=42)\n",
    "\n",
    "# Get consistent organizer_id mapping (most frequent for each event)\n",
    "organizer_mapping = pd.concat([\n",
    "    bookings[['event_id', 'organizer_id']],\n",
    "    comments[['event_id', 'organizer_id']],\n",
    "    likes[['event_id', 'organizer_id']]\n",
    "]).groupby('event_id')['organizer_id'].agg(lambda x: x.mode()[0]).to_dict()\n",
    "\n",
    "# Merge all interaction types\n",
    "result = unique_pairs.copy()\n",
    "\n",
    "# Merge booking data\n",
    "result = result.merge(\n",
    "    bookings_df.groupby(['user_id', 'event_id']).agg({\n",
    "        'is_booked': 'max',\n",
    "        'num_bookings': 'sum',\n",
    "        'organizer_id': 'first'\n",
    "    }).reset_index(),\n",
    "    on=['user_id', 'event_id'],\n",
    "    how='left'\n",
    ")\n",
    "\n",
    "# Merge comment data\n",
    "result = result.merge(\n",
    "    comments_df.groupby(['user_id', 'event_id']).agg({\n",
    "        'is_commented': 'max',\n",
    "        'num_comments': 'sum',\n",
    "        'organizer_id': 'first'\n",
    "    }).reset_index(),\n",
    "    on=['user_id', 'event_id'],\n",
    "    how='left'\n",
    ")\n",
    "\n",
    "# Merge like data\n",
    "result = result.merge(\n",
    "    likes_df.groupby(['user_id', 'event_id']).agg({\n",
    "        'is_liked': 'max',\n",
    "        'num_likes': 'sum',\n",
    "        'organizer_id': 'first'\n",
    "    }).reset_index(),\n",
    "    on=['user_id', 'event_id'],\n",
    "    how='left'\n",
    ")\n",
    "\n",
    "# Fill NA values with 0 for indicator and count columns\n",
    "for col in ['is_booked', 'num_bookings', 'is_commented', 'num_comments', 'is_liked', 'num_likes']:\n",
    "    result[col] = result[col].fillna(0).astype(int)\n",
    "\n",
    "# Consolidate organizer_id (take first non-NA value)\n",
    "result['organizer_id'] = (result['organizer_id_x']\n",
    "                         .fillna(result['organizer_id_y'])\n",
    "                         .fillna(result['organizer_id']))\n",
    "\n",
    "# If still missing, use our mapping\n",
    "result['organizer_id'] = result['organizer_id'].fillna(result['event_id'].map(organizer_mapping))\n",
    "\n",
    "# Select final columns\n",
    "final_data = result[[\n",
    "    'user_id', \n",
    "    'event_id', \n",
    "    'is_booked',\n",
    "    'num_bookings',\n",
    "    'is_liked',\n",
    "    'num_likes',\n",
    "    'is_commented', \n",
    "    'num_comments', \n",
    "    'organizer_id'\n",
    "]]\n",
    "\n",
    "# Ensure we have exactly 100,000 records (in case some merges added duplicates)\n",
    "final_data = final_data.drop_duplicates().sample(n=min(200000, len(final_data)), random_state=42)\n",
    "\n",
    "# Save the merged data\n",
    "final_data.to_csv(\"artifacts/data_ingestion/generated_data/merged_interactions.csv\", index=False)\n",
    "\n",
    "print(\"Merged data saved successfully!\")\n",
    "print(f\"Final dataset shape: {final_data.shape}\")\n",
    "print(final_data.head())"
   ]
  }
 ],
 "metadata": {
  "kernelspec": {
   "display_name": "recommendation-engine-env",
   "language": "python",
   "name": "python3"
  },
  "language_info": {
   "codemirror_mode": {
    "name": "ipython",
    "version": 3
   },
   "file_extension": ".py",
   "mimetype": "text/x-python",
   "name": "python",
   "nbconvert_exporter": "python",
   "pygments_lexer": "ipython3",
   "version": "3.12.3"
  }
 },
 "nbformat": 4,
 "nbformat_minor": 5
}
