{
 "cells": [
  {
   "cell_type": "code",
   "execution_count": 1,
   "id": "37a5cb3b",
   "metadata": {},
   "outputs": [],
   "source": [
    "import os"
   ]
  },
  {
   "cell_type": "code",
   "execution_count": 2,
   "id": "50461168",
   "metadata": {},
   "outputs": [
    {
     "data": {
      "text/plain": [
       "'d:\\\\recommendation-engine\\\\research'"
      ]
     },
     "execution_count": 2,
     "metadata": {},
     "output_type": "execute_result"
    }
   ],
   "source": [
    "%pwd"
   ]
  },
  {
   "cell_type": "code",
   "execution_count": 3,
   "id": "cadc0243",
   "metadata": {},
   "outputs": [],
   "source": [
    "os.chdir(\"../\")"
   ]
  },
  {
   "cell_type": "code",
   "execution_count": 4,
   "id": "83f86aac",
   "metadata": {},
   "outputs": [
    {
     "data": {
      "text/plain": [
       "'d:\\\\recommendation-engine'"
      ]
     },
     "execution_count": 4,
     "metadata": {},
     "output_type": "execute_result"
    }
   ],
   "source": [
    "%pwd"
   ]
  },
  {
   "cell_type": "code",
   "execution_count": 5,
   "id": "d9c8792d",
   "metadata": {},
   "outputs": [],
   "source": [
    "import pandas as pd"
   ]
  },
  {
   "cell_type": "code",
   "execution_count": 6,
   "id": "c9e97958",
   "metadata": {},
   "outputs": [
    {
     "data": {
      "text/html": [
       "<div>\n",
       "<style scoped>\n",
       "    .dataframe tbody tr th:only-of-type {\n",
       "        vertical-align: middle;\n",
       "    }\n",
       "\n",
       "    .dataframe tbody tr th {\n",
       "        vertical-align: top;\n",
       "    }\n",
       "\n",
       "    .dataframe thead th {\n",
       "        text-align: right;\n",
       "    }\n",
       "</style>\n",
       "<table border=\"1\" class=\"dataframe\">\n",
       "  <thead>\n",
       "    <tr style=\"text-align: right;\">\n",
       "      <th></th>\n",
       "      <th>user_id</th>\n",
       "      <th>liked_event_id</th>\n",
       "      <th>liked_event_organizer_id</th>\n",
       "      <th>like_id</th>\n",
       "    </tr>\n",
       "  </thead>\n",
       "  <tbody>\n",
       "    <tr>\n",
       "      <th>0</th>\n",
       "      <td>c238b607-febe-414c-9659-13eaf32995be</td>\n",
       "      <td>a5f7b368-33b4-46f8-aaf3-c86046ce6090</td>\n",
       "      <td>28b59946-eca4-49d0-aff5-d47cd7f84099</td>\n",
       "      <td>1fcb99e6-e8a5-4995-9ce2-f3612e878ccd</td>\n",
       "    </tr>\n",
       "    <tr>\n",
       "      <th>1</th>\n",
       "      <td>f563d07d-c4b8-4594-bf43-287d3c97042c</td>\n",
       "      <td>f36848b3-37cd-4819-9803-8655375ed6a5</td>\n",
       "      <td>6dbcb86d-f273-4a68-aaa7-ab2eb7350841</td>\n",
       "      <td>94698481-2505-4fd5-8aa1-5193c4b3cb49</td>\n",
       "    </tr>\n",
       "    <tr>\n",
       "      <th>2</th>\n",
       "      <td>118c138f-9238-468e-9af7-4d370f843d55</td>\n",
       "      <td>3c14a12b-acf0-4497-92b1-c8aa227ce806</td>\n",
       "      <td>d9cdb0ec-869d-4368-bad3-04827128de42</td>\n",
       "      <td>8c0eb07d-213f-4093-9806-701b422cd6cf</td>\n",
       "    </tr>\n",
       "    <tr>\n",
       "      <th>3</th>\n",
       "      <td>49c94e76-8b59-498a-b6fc-a80ebd365716</td>\n",
       "      <td>11239cdc-f026-4e31-be0b-fdacfa4a08e9</td>\n",
       "      <td>479dbf00-a94c-4f57-b490-e111d48d2c79</td>\n",
       "      <td>6d31d721-186d-4eb3-b195-762ffff899eb</td>\n",
       "    </tr>\n",
       "    <tr>\n",
       "      <th>4</th>\n",
       "      <td>992d2daa-66a3-4da5-9095-1dd085735b25</td>\n",
       "      <td>92cefcee-b508-4218-a3f5-bbabe2604a25</td>\n",
       "      <td>ad72af03-e285-46d5-baa4-dc6d7dfa98bf</td>\n",
       "      <td>7b48bc9b-7c2e-466d-b3e8-8de0139127df</td>\n",
       "    </tr>\n",
       "  </tbody>\n",
       "</table>\n",
       "</div>"
      ],
      "text/plain": [
       "                                user_id                        liked_event_id  \\\n",
       "0  c238b607-febe-414c-9659-13eaf32995be  a5f7b368-33b4-46f8-aaf3-c86046ce6090   \n",
       "1  f563d07d-c4b8-4594-bf43-287d3c97042c  f36848b3-37cd-4819-9803-8655375ed6a5   \n",
       "2  118c138f-9238-468e-9af7-4d370f843d55  3c14a12b-acf0-4497-92b1-c8aa227ce806   \n",
       "3  49c94e76-8b59-498a-b6fc-a80ebd365716  11239cdc-f026-4e31-be0b-fdacfa4a08e9   \n",
       "4  992d2daa-66a3-4da5-9095-1dd085735b25  92cefcee-b508-4218-a3f5-bbabe2604a25   \n",
       "\n",
       "               liked_event_organizer_id                               like_id  \n",
       "0  28b59946-eca4-49d0-aff5-d47cd7f84099  1fcb99e6-e8a5-4995-9ce2-f3612e878ccd  \n",
       "1  6dbcb86d-f273-4a68-aaa7-ab2eb7350841  94698481-2505-4fd5-8aa1-5193c4b3cb49  \n",
       "2  d9cdb0ec-869d-4368-bad3-04827128de42  8c0eb07d-213f-4093-9806-701b422cd6cf  \n",
       "3  479dbf00-a94c-4f57-b490-e111d48d2c79  6d31d721-186d-4eb3-b195-762ffff899eb  \n",
       "4  ad72af03-e285-46d5-baa4-dc6d7dfa98bf  7b48bc9b-7c2e-466d-b3e8-8de0139127df  "
      ]
     },
     "execution_count": 6,
     "metadata": {},
     "output_type": "execute_result"
    }
   ],
   "source": [
    "bookings = pd.read_csv(\"artifacts/data_ingestion/generated_data/bookings.csv\")\n",
    "comments = pd.read_csv(\"artifacts/data_ingestion/generated_data/comments.csv\")\n",
    "likes = pd.read_csv(\"artifacts/data_ingestion/generated_data/likes.csv\")\n",
    "bookings.head()\n",
    "comments.head()\n",
    "likes.head()"
   ]
  },
  {
   "cell_type": "code",
   "execution_count": 7,
   "id": "3cb2f7a5",
   "metadata": {},
   "outputs": [
    {
     "name": "stdout",
     "output_type": "stream",
     "text": [
      "<class 'pandas.core.frame.DataFrame'>\n",
      "RangeIndex: 150000 entries, 0 to 149999\n",
      "Data columns (total 4 columns):\n",
      " #   Column                     Non-Null Count   Dtype \n",
      "---  ------                     --------------   ----- \n",
      " 0   user_id                    150000 non-null  object\n",
      " 1   booked_event_id            150000 non-null  object\n",
      " 2   booked_event_organizer_id  150000 non-null  object\n",
      " 3   booking_id                 150000 non-null  object\n",
      "dtypes: object(4)\n",
      "memory usage: 4.6+ MB\n"
     ]
    }
   ],
   "source": [
    "bookings.info()\n"
   ]
  },
  {
   "cell_type": "code",
   "execution_count": 8,
   "id": "d6bcc184",
   "metadata": {},
   "outputs": [
    {
     "name": "stdout",
     "output_type": "stream",
     "text": [
      "<class 'pandas.core.frame.DataFrame'>\n",
      "RangeIndex: 245397 entries, 0 to 245396\n",
      "Data columns (total 4 columns):\n",
      " #   Column                        Non-Null Count   Dtype \n",
      "---  ------                        --------------   ----- \n",
      " 0   user_id                       245397 non-null  object\n",
      " 1   commented_event_id            245397 non-null  object\n",
      " 2   commented_event_organizer_id  245397 non-null  object\n",
      " 3   comment_id                    245397 non-null  object\n",
      "dtypes: object(4)\n",
      "memory usage: 7.5+ MB\n"
     ]
    }
   ],
   "source": [
    "comments.info()\n"
   ]
  },
  {
   "cell_type": "code",
   "execution_count": 9,
   "id": "2fd6956e",
   "metadata": {},
   "outputs": [
    {
     "name": "stdout",
     "output_type": "stream",
     "text": [
      "<class 'pandas.core.frame.DataFrame'>\n",
      "RangeIndex: 145397 entries, 0 to 145396\n",
      "Data columns (total 4 columns):\n",
      " #   Column                    Non-Null Count   Dtype \n",
      "---  ------                    --------------   ----- \n",
      " 0   user_id                   145397 non-null  object\n",
      " 1   liked_event_id            145397 non-null  object\n",
      " 2   liked_event_organizer_id  145397 non-null  object\n",
      " 3   like_id                   145397 non-null  object\n",
      "dtypes: object(4)\n",
      "memory usage: 4.4+ MB\n"
     ]
    }
   ],
   "source": [
    "likes.info()"
   ]
  },
  {
   "cell_type": "code",
   "execution_count": 10,
   "id": "d1c41425",
   "metadata": {},
   "outputs": [
    {
     "name": "stdout",
     "output_type": "stream",
     "text": [
      "Merged data saved successfully!\n",
      "Final dataset shape: (100000, 9)\n",
      "                                    user_id  \\\n",
      "75721  a1bbccb0-d0b1-426c-9c1b-1eb97d8e8527   \n",
      "80184  8a5a1dfa-e44e-470b-a992-8b13e0233b5c   \n",
      "19864  ec976f33-db50-4215-aefd-5e04dcb0cbf7   \n",
      "76699  76a1b14c-9ee3-4f16-9fc0-1ba0c208a092   \n",
      "92991  fc7db133-add9-447c-a2b0-42d3d105be76   \n",
      "\n",
      "                                   event_id  is_booked  num_bookings  \\\n",
      "75721  66773a59-49d3-4f79-8513-e7ec5a5102bb          0             0   \n",
      "80184  0e6bf3fd-d26f-457a-9645-90403d610c31          1             2   \n",
      "19864  e593730a-8006-445d-97f6-9a85ca942501          0             0   \n",
      "76699  1ad2bbdc-b57a-45bf-9fb9-d3e8818153f6          0             0   \n",
      "92991  664f2b30-0fb0-4c7d-a23c-1dd76b992d95          0             0   \n",
      "\n",
      "       is_liked  num_likes  is_commented  num_comments  \\\n",
      "75721         1          1             0             0   \n",
      "80184         1          2             1             2   \n",
      "19864         0          0             1             1   \n",
      "76699         1          1             0             0   \n",
      "92991         0          0             1             2   \n",
      "\n",
      "                               organizer_id  \n",
      "75721  0f6024d6-606f-4cac-9b4d-69aae2dcbcbb  \n",
      "80184  5c140e24-6645-4129-acfa-9e0237badb47  \n",
      "19864  763e8d85-6b31-4d45-9882-1ea77a95767d  \n",
      "76699  8622a156-ba92-49c7-b840-0298656725ec  \n",
      "92991  ad72af03-e285-46d5-baa4-dc6d7dfa98bf  \n"
     ]
    }
   ],
   "source": [
    "# Standardize column names across all datasets\n",
    "bookings = bookings.rename(columns={\n",
    "    'booked_event_id': 'event_id',\n",
    "    'booked_event_organizer_id': 'organizer_id',\n",
    "    'booking_id': 'id'\n",
    "})\n",
    "\n",
    "comments = comments.rename(columns={\n",
    "    'commented_event_id': 'event_id',\n",
    "    'commented_event_organizer_id': 'organizer_id',\n",
    "    'comment_id': 'id'\n",
    "})\n",
    "\n",
    "likes = likes.rename(columns={\n",
    "    'liked_event_id': 'event_id',\n",
    "    'liked_event_organizer_id': 'organizer_id',\n",
    "    'like_id': 'id'\n",
    "})\n",
    "\n",
    "# Create source-specific DataFrames with indicator columns\n",
    "bookings_df = bookings[['user_id', 'event_id', 'organizer_id']].copy()\n",
    "bookings_df['is_booked'] = 1\n",
    "bookings_df['num_bookings'] = 1\n",
    "\n",
    "comments_df = comments[['user_id', 'event_id', 'organizer_id']].copy()\n",
    "comments_df['is_commented'] = 1\n",
    "comments_df['num_comments'] = 1\n",
    "\n",
    "likes_df = likes[['user_id', 'event_id', 'organizer_id']].copy()\n",
    "likes_df['is_liked'] = 1\n",
    "likes_df['num_likes'] = 1\n",
    "\n",
    "# Get all unique user-event pairs\n",
    "unique_pairs = pd.concat([\n",
    "    bookings[['user_id', 'event_id']],\n",
    "    comments[['user_id', 'event_id']],\n",
    "    likes[['user_id', 'event_id']]\n",
    "]).drop_duplicates()\n",
    "\n",
    "# Randomly select 100,000 unique pairs if we have more than that\n",
    "if len(unique_pairs) > 100000:\n",
    "    unique_pairs = unique_pairs.sample(n=100000, random_state=42)\n",
    "\n",
    "# Get consistent organizer_id mapping (most frequent for each event)\n",
    "organizer_mapping = pd.concat([\n",
    "    bookings[['event_id', 'organizer_id']],\n",
    "    comments[['event_id', 'organizer_id']],\n",
    "    likes[['event_id', 'organizer_id']]\n",
    "]).groupby('event_id')['organizer_id'].agg(lambda x: x.mode()[0]).to_dict()\n",
    "\n",
    "# Merge all interaction types\n",
    "result = unique_pairs.copy()\n",
    "\n",
    "# Merge booking data\n",
    "result = result.merge(\n",
    "    bookings_df.groupby(['user_id', 'event_id']).agg({\n",
    "        'is_booked': 'max',\n",
    "        'num_bookings': 'sum',\n",
    "        'organizer_id': 'first'\n",
    "    }).reset_index(),\n",
    "    on=['user_id', 'event_id'],\n",
    "    how='left'\n",
    ")\n",
    "\n",
    "# Merge comment data\n",
    "result = result.merge(\n",
    "    comments_df.groupby(['user_id', 'event_id']).agg({\n",
    "        'is_commented': 'max',\n",
    "        'num_comments': 'sum',\n",
    "        'organizer_id': 'first'\n",
    "    }).reset_index(),\n",
    "    on=['user_id', 'event_id'],\n",
    "    how='left'\n",
    ")\n",
    "\n",
    "# Merge like data\n",
    "result = result.merge(\n",
    "    likes_df.groupby(['user_id', 'event_id']).agg({\n",
    "        'is_liked': 'max',\n",
    "        'num_likes': 'sum',\n",
    "        'organizer_id': 'first'\n",
    "    }).reset_index(),\n",
    "    on=['user_id', 'event_id'],\n",
    "    how='left'\n",
    ")\n",
    "\n",
    "# Fill NA values with 0 for indicator and count columns\n",
    "for col in ['is_booked', 'num_bookings', 'is_commented', 'num_comments', 'is_liked', 'num_likes']:\n",
    "    result[col] = result[col].fillna(0).astype(int)\n",
    "\n",
    "# Consolidate organizer_id (take first non-NA value)\n",
    "result['organizer_id'] = (result['organizer_id_x']\n",
    "                         .fillna(result['organizer_id_y'])\n",
    "                         .fillna(result['organizer_id']))\n",
    "\n",
    "# If still missing, use our mapping\n",
    "result['organizer_id'] = result['organizer_id'].fillna(result['event_id'].map(organizer_mapping))\n",
    "\n",
    "# Select final columns\n",
    "final_data = result[[\n",
    "    'user_id', \n",
    "    'event_id', \n",
    "    'is_booked',\n",
    "    'num_bookings',\n",
    "    'is_liked',\n",
    "    'num_likes',\n",
    "    'is_commented', \n",
    "    'num_comments', \n",
    "    'organizer_id'\n",
    "]]\n",
    "\n",
    "# Ensure we have exactly 100,000 records (in case some merges added duplicates)\n",
    "final_data = final_data.drop_duplicates().sample(n=min(100000, len(final_data)), random_state=42)\n",
    "\n",
    "# Save the merged data\n",
    "final_data.to_csv(\"artifacts/data_ingestion/generated_data/merged_interactions.csv\", index=False)\n",
    "\n",
    "print(\"Merged data saved successfully!\")\n",
    "print(f\"Final dataset shape: {final_data.shape}\")\n",
    "print(final_data.head())"
   ]
  },
  {
   "cell_type": "code",
   "execution_count": null,
   "id": "78235de1",
   "metadata": {},
   "outputs": [],
   "source": []
  }
 ],
 "metadata": {
  "kernelspec": {
   "display_name": "recommendation-engine-env",
   "language": "python",
   "name": "python3"
  },
  "language_info": {
   "codemirror_mode": {
    "name": "ipython",
    "version": 3
   },
   "file_extension": ".py",
   "mimetype": "text/x-python",
   "name": "python",
   "nbconvert_exporter": "python",
   "pygments_lexer": "ipython3",
   "version": "3.12.3"
  }
 },
 "nbformat": 4,
 "nbformat_minor": 5
}
