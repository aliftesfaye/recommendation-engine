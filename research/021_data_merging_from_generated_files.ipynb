{
 "cells": [
  {
   "cell_type": "code",
   "execution_count": 1,
   "id": "37a5cb3b",
   "metadata": {},
   "outputs": [],
   "source": [
    "import os"
   ]
  },
  {
   "cell_type": "code",
   "execution_count": 2,
   "id": "50461168",
   "metadata": {},
   "outputs": [
    {
     "data": {
      "text/plain": [
       "'d:\\\\recommendation-engine\\\\research'"
      ]
     },
     "execution_count": 2,
     "metadata": {},
     "output_type": "execute_result"
    }
   ],
   "source": [
    "%pwd"
   ]
  },
  {
   "cell_type": "code",
   "execution_count": 3,
   "id": "cadc0243",
   "metadata": {},
   "outputs": [],
   "source": [
    "os.chdir(\"../\")"
   ]
  },
  {
   "cell_type": "code",
   "execution_count": 4,
   "id": "83f86aac",
   "metadata": {},
   "outputs": [
    {
     "data": {
      "text/plain": [
       "'d:\\\\recommendation-engine'"
      ]
     },
     "execution_count": 4,
     "metadata": {},
     "output_type": "execute_result"
    }
   ],
   "source": [
    "%pwd"
   ]
  },
  {
   "cell_type": "code",
   "execution_count": 5,
   "id": "d9c8792d",
   "metadata": {},
   "outputs": [],
   "source": [
    "import pandas as pd"
   ]
  },
  {
   "cell_type": "code",
   "execution_count": 6,
   "id": "c9e97958",
   "metadata": {},
   "outputs": [
    {
     "data": {
      "text/html": [
       "<div>\n",
       "<style scoped>\n",
       "    .dataframe tbody tr th:only-of-type {\n",
       "        vertical-align: middle;\n",
       "    }\n",
       "\n",
       "    .dataframe tbody tr th {\n",
       "        vertical-align: top;\n",
       "    }\n",
       "\n",
       "    .dataframe thead th {\n",
       "        text-align: right;\n",
       "    }\n",
       "</style>\n",
       "<table border=\"1\" class=\"dataframe\">\n",
       "  <thead>\n",
       "    <tr style=\"text-align: right;\">\n",
       "      <th></th>\n",
       "      <th>user_id</th>\n",
       "      <th>liked_event_id</th>\n",
       "      <th>liked_event_organizer_id</th>\n",
       "      <th>like_id</th>\n",
       "    </tr>\n",
       "  </thead>\n",
       "  <tbody>\n",
       "    <tr>\n",
       "      <th>0</th>\n",
       "      <td>beca0aa6-bebd-4c34-9c5b-03edf7b71dc5</td>\n",
       "      <td>f9a6a40e-3b6b-4954-b45a-1c077358587b</td>\n",
       "      <td>60c5d29a-cd56-4a6d-83d8-8417f7dd8c45</td>\n",
       "      <td>3987e583-1fe8-4ec2-a973-914b2b497848</td>\n",
       "    </tr>\n",
       "    <tr>\n",
       "      <th>1</th>\n",
       "      <td>2b655047-c558-4fd6-a952-8e61969550e3</td>\n",
       "      <td>b81ab92e-0e6e-4b9b-ad50-6ac361b85a3f</td>\n",
       "      <td>dd0b548a-76c5-4bd0-8527-87ee47c7ae60</td>\n",
       "      <td>1b4c0bfb-f886-4e54-b24d-9b3dcea0e36f</td>\n",
       "    </tr>\n",
       "    <tr>\n",
       "      <th>2</th>\n",
       "      <td>a4a20a50-abfd-4ee8-9741-4e22eaf821d0</td>\n",
       "      <td>f604439a-66bc-4ad5-a35c-c4e5368dd7b0</td>\n",
       "      <td>e163a007-2139-427d-b878-58eaa2a5c81b</td>\n",
       "      <td>54e3b8d8-0653-4466-a05a-712a0069dcec</td>\n",
       "    </tr>\n",
       "    <tr>\n",
       "      <th>3</th>\n",
       "      <td>8cea2d02-9bed-4519-b33a-ba712767cf45</td>\n",
       "      <td>03cbfc57-67fa-4f76-aad8-d64fb28002f6</td>\n",
       "      <td>e87902c3-c62e-48b6-9b1a-851f9dc164ae</td>\n",
       "      <td>2b8f7076-743d-4208-a84e-9d214d36705d</td>\n",
       "    </tr>\n",
       "    <tr>\n",
       "      <th>4</th>\n",
       "      <td>6b91fcbb-b8bf-4ca7-90f4-1de83c0f5257</td>\n",
       "      <td>b541a36d-2e0b-4eda-ac96-eab938b5249c</td>\n",
       "      <td>81263b9c-871f-45a1-be63-93425afc20d3</td>\n",
       "      <td>d9e6f46c-45b3-4c15-acc4-767f9e382abd</td>\n",
       "    </tr>\n",
       "  </tbody>\n",
       "</table>\n",
       "</div>"
      ],
      "text/plain": [
       "                                user_id                        liked_event_id  \\\n",
       "0  beca0aa6-bebd-4c34-9c5b-03edf7b71dc5  f9a6a40e-3b6b-4954-b45a-1c077358587b   \n",
       "1  2b655047-c558-4fd6-a952-8e61969550e3  b81ab92e-0e6e-4b9b-ad50-6ac361b85a3f   \n",
       "2  a4a20a50-abfd-4ee8-9741-4e22eaf821d0  f604439a-66bc-4ad5-a35c-c4e5368dd7b0   \n",
       "3  8cea2d02-9bed-4519-b33a-ba712767cf45  03cbfc57-67fa-4f76-aad8-d64fb28002f6   \n",
       "4  6b91fcbb-b8bf-4ca7-90f4-1de83c0f5257  b541a36d-2e0b-4eda-ac96-eab938b5249c   \n",
       "\n",
       "               liked_event_organizer_id                               like_id  \n",
       "0  60c5d29a-cd56-4a6d-83d8-8417f7dd8c45  3987e583-1fe8-4ec2-a973-914b2b497848  \n",
       "1  dd0b548a-76c5-4bd0-8527-87ee47c7ae60  1b4c0bfb-f886-4e54-b24d-9b3dcea0e36f  \n",
       "2  e163a007-2139-427d-b878-58eaa2a5c81b  54e3b8d8-0653-4466-a05a-712a0069dcec  \n",
       "3  e87902c3-c62e-48b6-9b1a-851f9dc164ae  2b8f7076-743d-4208-a84e-9d214d36705d  \n",
       "4  81263b9c-871f-45a1-be63-93425afc20d3  d9e6f46c-45b3-4c15-acc4-767f9e382abd  "
      ]
     },
     "execution_count": 6,
     "metadata": {},
     "output_type": "execute_result"
    }
   ],
   "source": [
    "bookings = pd.read_csv(\"artifacts/data_ingestion/generated_data/bookings.csv\")\n",
    "comments = pd.read_csv(\"artifacts/data_ingestion/generated_data/comments.csv\")\n",
    "likes = pd.read_csv(\"artifacts/data_ingestion/generated_data/likes.csv\")\n",
    "bookings.head()\n",
    "comments.head()\n",
    "likes.head()"
   ]
  },
  {
   "cell_type": "code",
   "execution_count": 7,
   "id": "3cb2f7a5",
   "metadata": {},
   "outputs": [
    {
     "name": "stdout",
     "output_type": "stream",
     "text": [
      "<class 'pandas.core.frame.DataFrame'>\n",
      "RangeIndex: 150000 entries, 0 to 149999\n",
      "Data columns (total 4 columns):\n",
      " #   Column                     Non-Null Count   Dtype \n",
      "---  ------                     --------------   ----- \n",
      " 0   user_id                    150000 non-null  object\n",
      " 1   booked_event_id            150000 non-null  object\n",
      " 2   booked_event_organizer_id  150000 non-null  object\n",
      " 3   booking_id                 150000 non-null  object\n",
      "dtypes: object(4)\n",
      "memory usage: 4.6+ MB\n"
     ]
    }
   ],
   "source": [
    "bookings.info()\n"
   ]
  },
  {
   "cell_type": "code",
   "execution_count": 8,
   "id": "d6bcc184",
   "metadata": {},
   "outputs": [
    {
     "name": "stdout",
     "output_type": "stream",
     "text": [
      "<class 'pandas.core.frame.DataFrame'>\n",
      "RangeIndex: 245397 entries, 0 to 245396\n",
      "Data columns (total 4 columns):\n",
      " #   Column                        Non-Null Count   Dtype \n",
      "---  ------                        --------------   ----- \n",
      " 0   user_id                       245397 non-null  object\n",
      " 1   commented_event_id            245397 non-null  object\n",
      " 2   commented_event_organizer_id  245397 non-null  object\n",
      " 3   comment_id                    245397 non-null  object\n",
      "dtypes: object(4)\n",
      "memory usage: 7.5+ MB\n"
     ]
    }
   ],
   "source": [
    "comments.info()\n"
   ]
  },
  {
   "cell_type": "code",
   "execution_count": 9,
   "id": "2fd6956e",
   "metadata": {},
   "outputs": [
    {
     "name": "stdout",
     "output_type": "stream",
     "text": [
      "<class 'pandas.core.frame.DataFrame'>\n",
      "RangeIndex: 145397 entries, 0 to 145396\n",
      "Data columns (total 4 columns):\n",
      " #   Column                    Non-Null Count   Dtype \n",
      "---  ------                    --------------   ----- \n",
      " 0   user_id                   145397 non-null  object\n",
      " 1   liked_event_id            145397 non-null  object\n",
      " 2   liked_event_organizer_id  145397 non-null  object\n",
      " 3   like_id                   145397 non-null  object\n",
      "dtypes: object(4)\n",
      "memory usage: 4.4+ MB\n"
     ]
    }
   ],
   "source": [
    "likes.info()"
   ]
  },
  {
   "cell_type": "code",
   "execution_count": 10,
   "id": "d1c41425",
   "metadata": {},
   "outputs": [
    {
     "name": "stdout",
     "output_type": "stream",
     "text": [
      "Merged data saved successfully!\n",
      "Final dataset shape: (200000, 9)\n",
      "                                     user_id  \\\n",
      "119737  e10fd3ff-0b93-4214-ac6f-7d323dac5562   \n",
      "72272   1607fa73-d544-4a6b-acc7-1515f6f8cfc8   \n",
      "158154  5a2cb656-2dfe-449d-9c89-91e1f7578f4a   \n",
      "65426   e42cdecc-8eed-4e1f-91b0-772e03c1df44   \n",
      "30074   92073ec5-50f6-47fa-9d8c-cb4dbd7028e9   \n",
      "\n",
      "                                    event_id  is_booked  num_bookings  \\\n",
      "119737  4c4ac787-6c1b-4cc0-98a4-5a28dd05a414          0             0   \n",
      "72272   7b347f14-3dcf-40b9-8be3-7d032cacfb57          0             0   \n",
      "158154  9a872252-89e6-442a-b707-03b230559366          1             4   \n",
      "65426   23ca6187-34eb-4a99-a1a7-b1660b58b6a7          0             0   \n",
      "30074   d7cdd08e-db62-4295-9246-680a72d28190          0             0   \n",
      "\n",
      "        is_liked  num_likes  is_commented  num_comments  \\\n",
      "119737         0          0             1             1   \n",
      "72272          0          0             1             3   \n",
      "158154         0          0             0             0   \n",
      "65426          0          0             1             1   \n",
      "30074          0          0             1             1   \n",
      "\n",
      "                                organizer_id  \n",
      "119737  e8e55284-d935-4777-bde6-cae729ffce43  \n",
      "72272   146ba993-f81c-45c4-9aeb-773b9e839e38  \n",
      "158154  69f8e39b-7b65-48c7-a8e6-a81ca9ead8e0  \n",
      "65426   ae09e0fb-d2de-48af-b895-485232822b0f  \n",
      "30074   010fadd0-9cfb-48b0-a19b-51cf08f9b029  \n"
     ]
    }
   ],
   "source": [
    "# Standardize column names across all datasets\n",
    "bookings = bookings.rename(columns={\n",
    "    'booked_event_id': 'event_id',\n",
    "    'booked_event_organizer_id': 'organizer_id',\n",
    "    'booking_id': 'id'\n",
    "})\n",
    "\n",
    "comments = comments.rename(columns={\n",
    "    'commented_event_id': 'event_id',\n",
    "    'commented_event_organizer_id': 'organizer_id',\n",
    "    'comment_id': 'id'\n",
    "})\n",
    "\n",
    "likes = likes.rename(columns={\n",
    "    'liked_event_id': 'event_id',\n",
    "    'liked_event_organizer_id': 'organizer_id',\n",
    "    'like_id': 'id'\n",
    "})\n",
    "\n",
    "# Create source-specific DataFrames with indicator columns\n",
    "bookings_df = bookings[['user_id', 'event_id', 'organizer_id']].copy()\n",
    "bookings_df['is_booked'] = 1\n",
    "bookings_df['num_bookings'] = 1\n",
    "\n",
    "comments_df = comments[['user_id', 'event_id', 'organizer_id']].copy()\n",
    "comments_df['is_commented'] = 1\n",
    "comments_df['num_comments'] = 1\n",
    "\n",
    "likes_df = likes[['user_id', 'event_id', 'organizer_id']].copy()\n",
    "likes_df['is_liked'] = 1\n",
    "likes_df['num_likes'] = 1\n",
    "\n",
    "# Get all unique user-event pairs\n",
    "unique_pairs = pd.concat([\n",
    "    bookings[['user_id', 'event_id']],\n",
    "    comments[['user_id', 'event_id']],\n",
    "    likes[['user_id', 'event_id']]\n",
    "]).drop_duplicates()\n",
    "\n",
    "# Randomly select 100,000 unique pairs if we have more than that\n",
    "if len(unique_pairs) > 200000:\n",
    "    unique_pairs = unique_pairs.sample(n=200000, random_state=42)\n",
    "\n",
    "# Get consistent organizer_id mapping (most frequent for each event)\n",
    "organizer_mapping = pd.concat([\n",
    "    bookings[['event_id', 'organizer_id']],\n",
    "    comments[['event_id', 'organizer_id']],\n",
    "    likes[['event_id', 'organizer_id']]\n",
    "]).groupby('event_id')['organizer_id'].agg(lambda x: x.mode()[0]).to_dict()\n",
    "\n",
    "# Merge all interaction types\n",
    "result = unique_pairs.copy()\n",
    "\n",
    "# Merge booking data\n",
    "result = result.merge(\n",
    "    bookings_df.groupby(['user_id', 'event_id']).agg({\n",
    "        'is_booked': 'max',\n",
    "        'num_bookings': 'sum',\n",
    "        'organizer_id': 'first'\n",
    "    }).reset_index(),\n",
    "    on=['user_id', 'event_id'],\n",
    "    how='left'\n",
    ")\n",
    "\n",
    "# Merge comment data\n",
    "result = result.merge(\n",
    "    comments_df.groupby(['user_id', 'event_id']).agg({\n",
    "        'is_commented': 'max',\n",
    "        'num_comments': 'sum',\n",
    "        'organizer_id': 'first'\n",
    "    }).reset_index(),\n",
    "    on=['user_id', 'event_id'],\n",
    "    how='left'\n",
    ")\n",
    "\n",
    "# Merge like data\n",
    "result = result.merge(\n",
    "    likes_df.groupby(['user_id', 'event_id']).agg({\n",
    "        'is_liked': 'max',\n",
    "        'num_likes': 'sum',\n",
    "        'organizer_id': 'first'\n",
    "    }).reset_index(),\n",
    "    on=['user_id', 'event_id'],\n",
    "    how='left'\n",
    ")\n",
    "\n",
    "# Fill NA values with 0 for indicator and count columns\n",
    "for col in ['is_booked', 'num_bookings', 'is_commented', 'num_comments', 'is_liked', 'num_likes']:\n",
    "    result[col] = result[col].fillna(0).astype(int)\n",
    "\n",
    "# Consolidate organizer_id (take first non-NA value)\n",
    "result['organizer_id'] = (result['organizer_id_x']\n",
    "                         .fillna(result['organizer_id_y'])\n",
    "                         .fillna(result['organizer_id']))\n",
    "\n",
    "# If still missing, use our mapping\n",
    "result['organizer_id'] = result['organizer_id'].fillna(result['event_id'].map(organizer_mapping))\n",
    "\n",
    "# Select final columns\n",
    "final_data = result[[\n",
    "    'user_id', \n",
    "    'event_id', \n",
    "    'is_booked',\n",
    "    'num_bookings',\n",
    "    'is_liked',\n",
    "    'num_likes',\n",
    "    'is_commented', \n",
    "    'num_comments', \n",
    "    'organizer_id'\n",
    "]]\n",
    "\n",
    "# Ensure we have exactly 100,000 records (in case some merges added duplicates)\n",
    "final_data = final_data.drop_duplicates().sample(n=min(200000, len(final_data)), random_state=42)\n",
    "\n",
    "# Save the merged data\n",
    "final_data.to_csv(\"artifacts/data_ingestion/generated_data/merged_interactions.csv\", index=False)\n",
    "\n",
    "print(\"Merged data saved successfully!\")\n",
    "print(f\"Final dataset shape: {final_data.shape}\")\n",
    "print(final_data.head())"
   ]
  }
 ],
 "metadata": {
  "kernelspec": {
   "display_name": "recommendation-engine-env",
   "language": "python",
   "name": "python3"
  },
  "language_info": {
   "codemirror_mode": {
    "name": "ipython",
    "version": 3
   },
   "file_extension": ".py",
   "mimetype": "text/x-python",
   "name": "python",
   "nbconvert_exporter": "python",
   "pygments_lexer": "ipython3",
   "version": "3.12.3"
  }
 },
 "nbformat": 4,
 "nbformat_minor": 5
}
