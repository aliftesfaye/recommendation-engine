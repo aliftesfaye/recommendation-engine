{
 "cells": [
  {
   "cell_type": "code",
   "execution_count": 1,
   "id": "e4316cd8",
   "metadata": {},
   "outputs": [],
   "source": [
    "import os"
   ]
  },
  {
   "cell_type": "code",
   "execution_count": 2,
   "id": "53c95f9e",
   "metadata": {},
   "outputs": [],
   "source": [
    "os.chdir(\"../\")"
   ]
  },
  {
   "cell_type": "code",
   "execution_count": 3,
   "id": "0d262bd2",
   "metadata": {},
   "outputs": [
    {
     "data": {
      "text/plain": [
       "'d:\\\\recommendation-engine'"
      ]
     },
     "execution_count": 3,
     "metadata": {},
     "output_type": "execute_result"
    }
   ],
   "source": [
    "%pwd"
   ]
  },
  {
   "cell_type": "code",
   "execution_count": 4,
   "id": "0dff1c6c",
   "metadata": {},
   "outputs": [],
   "source": [
    "from dataclasses import dataclass\n",
    "from pathlib import Path\n",
    "\n",
    "@dataclass(frozen=True)\n",
    "class ModelTrainerConfig:\n",
    "    root_dir: Path\n",
    "    train_data_path: Path\n",
    "    model_name: str\n",
    "    embedding_dim: int\n",
    "    epochs: int\n",
    "    learning_rate: float\n",
    "    alpha: float\n",
    "    k: int "
   ]
  },
  {
   "cell_type": "code",
   "execution_count": 5,
   "id": "634212d0",
   "metadata": {},
   "outputs": [],
   "source": [
    "from src.hybrid_recommender.constants import *\n",
    "from src.hybrid_recommender.utils.common import read_yaml, create_directories"
   ]
  },
  {
   "cell_type": "code",
   "execution_count": 6,
   "id": "998c2f4e",
   "metadata": {},
   "outputs": [],
   "source": [
    "class ConfigurationManager:\n",
    "    def __init__(\n",
    "        self,\n",
    "        config_filepath=CONFIG_FILE_PATH,\n",
    "        params_filepath=PARAMS_FILE_PATH,\n",
    "        schema_filepath=SCHEMA_FILE_PATH):\n",
    "\n",
    "        self.config = read_yaml(config_filepath)\n",
    "        self.params = read_yaml(params_filepath)\n",
    "        self.schema = read_yaml(schema_filepath)\n",
    "\n",
    "        create_directories([self.config.artifacts_root])\n",
    "\n",
    "    def get_model_trainer_config(self) -> ModelTrainerConfig:\n",
    "        config = self.config.model_trainer\n",
    "        params = self.params.HybridRecommender\n",
    "\n",
    "        create_directories([config.root_dir])\n",
    "\n",
    "        return ModelTrainerConfig(\n",
    "            root_dir=config.root_dir,\n",
    "            train_data_path=config.train_data_path,\n",
    "            model_name=config.model_name,\n",
    "            embedding_dim=params.embedding_dim,\n",
    "            epochs=params.epochs,\n",
    "            learning_rate=params.learning_rate,\n",
    "            alpha=params.alpha,\n",
    "            k=params.k\n",
    "        )"
   ]
  },
  {
   "cell_type": "code",
   "execution_count": 7,
   "id": "b6e5309e",
   "metadata": {},
   "outputs": [],
   "source": [
    "import os\n",
    "import numpy as np\n",
    "import pandas as pd\n",
    "import tensorflow as tf\n",
    "from scipy.sparse import csr_matrix\n",
    "import joblib\n",
    "from src.hybrid_recommender import logger"
   ]
  },
  {
   "cell_type": "code",
   "execution_count": null,
   "id": "d3a30e06",
   "metadata": {},
   "outputs": [],
   "source": [
    "class RecommendationEngine:\n",
    "    def __init__(self, config: ModelTrainerConfig):\n",
    "        self.config = config\n",
    "        self.user_encoder = None\n",
    "        self.item_encoder = None\n",
    "        self.organizer_encoder = None\n",
    "        self.user_decoder = None\n",
    "        self.item_decoder = None\n",
    "        self.organizer_decoder = None\n",
    "        \n",
    "    def load_models(self):\n",
    "        \"\"\"Load trained models and encoders\"\"\"\n",
    "        \n",
    "        models_dir = self.config.root_dir\n",
    "        self.implicit_model = joblib.load(os.path.join(models_dir, 'implicit_model.joblib'))\n",
    "        self.nn_model = tf.keras.models.load_model(os.path.join(models_dir, 'nn_model.h5'))\n",
    "        self.scaler = joblib.load(os.path.join(models_dir, 'scaler.joblib'))\n",
    "        encoders = joblib.load(os.path.join(models_dir, 'encoders.joblib'))\n",
    "        \n",
    "        self.user_encoder = encoders['user_encoder']\n",
    "        self.item_encoder = encoders['item_encoder']\n",
    "        self.organizer_encoder = encoders['organizer_encoder']\n",
    "        self.user_decoder = {i: u for u, i in self.user_encoder.items()}\n",
    "        self.item_decoder = {i: m for m, i in self.item_encoder.items()}\n",
    "        self.organizer_decoder = {i: o for o, i in self.organizer_encoder.items()}\n",
    "        \n",
    "    def recommend(self, user_id, n_recommendations=10):\n",
    "        \"\"\"Generate recommendations for a user\"\"\"\n",
    "\n",
    "        user_encoded = self.user_encoder.get(user_id)\n",
    "        if user_encoded is None:\n",
    "            return []  # Return empty list for cold-start users\n",
    "        \n",
    "        user_items = csr_matrix(([1], ([0], [0])), \n",
    "                          shape=(1, len(self.item_encoder)))\n",
    "        implicit_recs = self.implicit_model.recommend(\n",
    "            user_encoded, \n",
    "            user_items,\n",
    "            N=n_recommendations*3  # Get more candidates for NN to score\n",
    "        )\n",
    "        \n",
    "        recommended_events = [self.item_decoder[item] for item in implicit_recs[0]]\n",
    "        \n",
    "        df = pd.read_csv(self.config.train_data_path)\n",
    "        event_organizer_map = df.drop_duplicates('event_id').set_index('event_id')['organizer_id'].to_dict()\n",
    "        \n",
    "        organizer_ids = [event_organizer_map.get(event_id, 0) for event_id in recommended_events]  # default to 0 if not found\n",
    "        organizer_encoded = [self.organizer_encoder.get(org_id, 0) for org_id in organizer_ids]  # default to 0 if not found\n",
    "        \n",
    "        user_array = np.array([user_encoded] * len(implicit_recs[0]))\n",
    "        event_array = np.array(implicit_recs[0])\n",
    "        organizer_array = np.array(organizer_encoded)\n",
    "        \n",
    "        nn_scores = self.nn_model.predict([user_array, event_array, organizer_array])\n",
    "        nn_scores = self.scaler.inverse_transform(nn_scores.reshape(-1, 1)).flatten()\n",
    "        \n",
    "        combined_scores = implicit_recs[1] * 0.6 + nn_scores * 0.4\n",
    "        top_indices = np.argsort(combined_scores)[::-1][:n_recommendations]\n",
    "        \n",
    "        recommendations = []\n",
    "        for idx in top_indices:\n",
    "            event_id = self.item_decoder[implicit_recs[0][idx]]\n",
    "            score = combined_scores[idx]\n",
    "            organizer_id = organizer_ids[idx]\n",
    "            recommendations.append({\n",
    "                            'event_id': event_id,\n",
    "                            'organizer_id': organizer_id,\n",
    "                            'score': score\n",
    "                        })        \n",
    "        return recommendations"
   ]
  },
  {
   "cell_type": "code",
   "execution_count": 9,
   "id": "6fbfc76f",
   "metadata": {},
   "outputs": [
    {
     "name": "stdout",
     "output_type": "stream",
     "text": [
      "[2025-07-01 16:02:51,183: INFO: common: yaml file: config\\config.yaml loaded successfully]\n",
      "[2025-07-01 16:02:51,195: INFO: common: yaml file: params.yaml loaded successfully]\n",
      "[2025-07-01 16:02:51,198: INFO: common: yaml file: schema.yaml loaded successfully]\n",
      "[2025-07-01 16:02:51,200: INFO: common: created directory at: artifacts]\n",
      "[2025-07-01 16:02:51,201: INFO: common: created directory at: artifacts/model_trainer]\n",
      "[2025-07-01 16:02:51,375: WARNING: saving_utils: Compiled the loaded model, but the compiled metrics have yet to be built. `model.compile_metrics` will be empty until you train or evaluate the model.]\n"
     ]
    },
    {
     "name": "stderr",
     "output_type": "stream",
     "text": [
      "d:\\newst\\miniconda3\\envs\\recommendation-engine-env\\Lib\\site-packages\\tqdm\\auto.py:21: TqdmWarning: IProgress not found. Please update jupyter and ipywidgets. See https://ipywidgets.readthedocs.io/en/stable/user_install.html\n",
      "  from .autonotebook import tqdm as notebook_tqdm\n"
     ]
    },
    {
     "name": "stdout",
     "output_type": "stream",
     "text": [
      "\u001b[1m1/1\u001b[0m \u001b[32m━━━━━━━━━━━━━━━━━━━━\u001b[0m\u001b[37m\u001b[0m \u001b[1m0s\u001b[0m 155ms/step\n",
      "[{'event_id': '7bdb96e4-a679-48f4-aa28-4acc33b3c789', 'organizer_id': '65384a4c-d3bf-4dc9-839c-93a7c2f2621e', 'score': np.float32(0.94807005)}, {'event_id': '58da7fe0-af1a-4fa3-b802-d86fc4878a6f', 'organizer_id': '0ff6a69d-4711-4ef7-9574-cea46ebe21ec', 'score': np.float32(0.89296025)}, {'event_id': 'ce9e2f1a-111b-44b4-8a27-fce84a4a77d2', 'organizer_id': '46653989-842a-4c23-a5b0-1a5cdb79843f', 'score': np.float32(0.6521462)}, {'event_id': 'ae8c7a8f-d799-47a4-bcf7-9b27681f95c6', 'organizer_id': 'a844236c-7e3d-4f9f-9b78-9860361d3f8f', 'score': np.float32(0.6287296)}, {'event_id': '3c24304c-da0e-4a24-a9e1-21f6f168d541', 'organizer_id': '1aafbaa0-9efd-4d51-adbb-310e8a3355d5', 'score': np.float32(0.5647768)}, {'event_id': '3ed3aca0-41dd-45aa-811d-d6c3fe3b7060', 'organizer_id': '32a7a562-245c-46a8-8974-130a84b087c1', 'score': np.float32(0.54017246)}, {'event_id': 'cf28c1eb-c7f7-4688-a078-b198542500c6', 'organizer_id': '79920c5e-ea88-4068-979d-0957711ffa81', 'score': np.float32(0.51032907)}, {'event_id': '93c57673-1b2a-4cc9-8fee-130246311986', 'organizer_id': 'db9038ab-549e-471a-b2e8-d1a49a68d602', 'score': np.float32(0.37987638)}, {'event_id': '0d2ce83f-464d-4dea-86ac-40e3588b90ee', 'organizer_id': '0059301a-90f1-4d38-a87c-73a86e26e7f4', 'score': np.float32(0.35850435)}, {'event_id': '3fa76ac7-c9a3-4885-9fa4-b9a15e605a43', 'organizer_id': '9ea08180-2e7f-45f8-8874-3e60276e447f', 'score': np.float32(0.33575636)}]\n"
     ]
    }
   ],
   "source": [
    "\n",
    "try:\n",
    "    config = ConfigurationManager()\n",
    "    recommender_config = config.get_model_trainer_config()\n",
    "    recommender = RecommendationEngine(config=recommender_config)\n",
    "    recommender.load_models()\n",
    "    recommendations = recommender.recommend(user_id='f3b0e947-0637-4a57-bae5-2f0f12257bcc', n_recommendations=10)\n",
    "    print(recommendations)\n",
    "except Exception as e:\n",
    "    logger.exception(\"Error in testing hybrid recommender\")\n",
    "    raise e\n"
   ]
  }
 ],
 "metadata": {
  "kernelspec": {
   "display_name": "recommendation-engine-env",
   "language": "python",
   "name": "python3"
  },
  "language_info": {
   "codemirror_mode": {
    "name": "ipython",
    "version": 3
   },
   "file_extension": ".py",
   "mimetype": "text/x-python",
   "name": "python",
   "nbconvert_exporter": "python",
   "pygments_lexer": "ipython3",
   "version": "3.12.3"
  }
 },
 "nbformat": 4,
 "nbformat_minor": 5
}
