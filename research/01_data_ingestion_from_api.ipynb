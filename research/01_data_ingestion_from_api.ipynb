{
 "cells": [
  {
   "cell_type": "code",
   "execution_count": 1,
   "id": "c8fafbdf",
   "metadata": {},
   "outputs": [],
   "source": [
    "import os"
   ]
  },
  {
   "cell_type": "code",
   "execution_count": 2,
   "id": "b7bb05f5",
   "metadata": {},
   "outputs": [
    {
     "data": {
      "text/plain": [
       "'d:\\\\recommendation-engine\\\\research'"
      ]
     },
     "execution_count": 2,
     "metadata": {},
     "output_type": "execute_result"
    }
   ],
   "source": [
    "%pwd"
   ]
  },
  {
   "cell_type": "code",
   "execution_count": 3,
   "id": "805133da",
   "metadata": {},
   "outputs": [],
   "source": [
    "os.chdir(\"../\")"
   ]
  },
  {
   "cell_type": "code",
   "execution_count": 4,
   "id": "65209d73",
   "metadata": {},
   "outputs": [
    {
     "data": {
      "text/plain": [
       "'d:\\\\recommendation-engine'"
      ]
     },
     "execution_count": 4,
     "metadata": {},
     "output_type": "execute_result"
    }
   ],
   "source": [
    "%pwd"
   ]
  },
  {
   "cell_type": "code",
   "execution_count": 5,
   "id": "0d0c1212",
   "metadata": {},
   "outputs": [],
   "source": [
    "from dataclasses import dataclass\n",
    "from pathlib import Path\n",
    "\n",
    "@dataclass(frozen=True)\n",
    "class DataIngestionConfig:\n",
    "    root_dir: Path\n",
    "    source: str\n",
    "    local_data_file: Path\n",
    "    unzip_dir: Path"
   ]
  },
  {
   "cell_type": "code",
   "execution_count": 6,
   "id": "73fdd216",
   "metadata": {},
   "outputs": [],
   "source": [
    "from src.hybrid_recommender.constants import *\n",
    "from src.hybrid_recommender.utils.common import read_yaml, create_directories\n"
   ]
  },
  {
   "cell_type": "code",
   "execution_count": 7,
   "id": "3869aed0",
   "metadata": {},
   "outputs": [],
   "source": [
    "class ConfigurationManager:\n",
    "    def __init__(self):\n",
    "        config_filepath = CONFIG_FILE_PATH\n",
    "\n",
    "        self.config = read_yaml(config_filepath)\n",
    "\n",
    "        create_directories([self.config.artifacts_root])\n",
    "\n",
    "    def get_data_ingestion_config(self) -> DataIngestionConfig:\n",
    "        config = self.config.data_ingestion\n",
    "\n",
    "        create_directories([config.root_dir])\n",
    "\n",
    "        data_ingestion_config = DataIngestionConfig(\n",
    "            root_dir=config.root_dir,\n",
    "            source=config.source,\n",
    "            local_data_file=config.local_data_file,\n",
    "            unzip_dir=config.unzip_dir \n",
    "        )\n",
    "\n",
    "        return data_ingestion_config\n"
   ]
  },
  {
   "cell_type": "code",
   "execution_count": 11,
   "id": "af27ef46",
   "metadata": {},
   "outputs": [],
   "source": [
    "import os\n",
    "import urllib.request as request\n",
    "import zipfile\n",
    "from src.hybrid_recommender import logger\n",
    "from src.hybrid_recommender.utils.common import get_size\n",
    "from kaggle.api.kaggle_api_extended import KaggleApi\n",
    "import pandas as pd\n"
   ]
  },
  {
   "cell_type": "code",
   "execution_count": null,
   "id": "a690ea7d",
   "metadata": {},
   "outputs": [],
   "source": [
    "class DataIngestion:\n",
    "    def __init__(self, config: DataIngestionConfig):\n",
    "        self.config = config\n",
    "        self.api = KaggleApi()\n",
    "        self.api.authenticate()\n",
    "\n",
    "    def download_file(self):\n",
    "        if not os.path.exists(self.config.local_data_file):\n",
    "            logger.info(f\"Downloading dataset from Kaggle: {self.config.source}\")\n",
    "            self.api.dataset_download_files(\n",
    "                self.config.source,\n",
    "                path=self.config.root_dir,\n",
    "                unzip=False\n",
    "            )\n",
    "            temp_zip = os.path.join(self.config.root_dir, f\"{self.config.source.split('/')[-1]}.zip\")\n",
    "            if os.path.exists(temp_zip):\n",
    "                os.rename(temp_zip, self.config.local_data_file)\n",
    "            \n",
    "            logger.info(f\"Downloaded dataset to: {self.config.local_data_file}\")\n",
    "        else:\n",
    "            logger.info(f\"File already exists of size: {get_size(Path(self.config.local_data_file))}\")\n",
    "\n",
    "\n",
    "\n",
    "    def extract_zip_file(self):\n",
    "        \"\"\"\n",
    "        zip_file_path: str\n",
    "        Extracts the zip file into the data directory\n",
    "        Function returns None\n",
    "        \"\"\"\n",
    "        unzip_path = self.config.unzip_dir\n",
    "        os.makedirs(unzip_path, exist_ok=True)\n",
    "        with zipfile.ZipFile(self.config.local_data_file, 'r') as zip_ref:\n",
    "            zip_ref.extractall(unzip_path)\n",
    "        logger.info(f\"Extracted data to: {unzip_path}\")\n",
    "  \n",
    "    def merge_data(self) -> pd.DataFrame:\n",
    "        \"\"\"\n",
    "        Merges data from Books, Ratings, and Users CSV files into a single DataFrame\n",
    "        \n",
    "        Returns:\n",
    "            pd.DataFrame: Merged dataset with book details, user details, and ratings\n",
    "        \"\"\"\n",
    "        try:\n",
    "            # Read individual files\n",
    "            books_path = os.path.join(self.config.unzip_dir, \"Books.csv\")\n",
    "            ratings_path = os.path.join(self.config.unzip_dir, \"Ratings.csv\")\n",
    "            users_path = os.path.join(self.config.unzip_dir, \"Users.csv\")\n",
    "            \n",
    "            logger.info(f\"Reading data files from {self.config.unzip_dir}\")\n",
    "            books_df = pd.read_csv(books_path, low_memory=False, encoding='latin1')\n",
    "            ratings_df = pd.read_csv(ratings_path, low_memory=False, encoding='latin1')\n",
    "            users_df = pd.read_csv(users_path, low_memory=False, encoding='latin1')\n",
    "            \n",
    "            logger.info(f\"Books shape: {books_df.shape}, Ratings shape: {ratings_df.shape}, Users shape: {users_df.shape}\")\n",
    "            \n",
    "            # First merge ratings with books on ISBN\n",
    "            logger.info(\"Merging ratings with books...\")\n",
    "            book_ratings = pd.merge(\n",
    "                ratings_df,\n",
    "                books_df,\n",
    "                on='ISBN',\n",
    "                how='left'\n",
    "            )\n",
    "            \n",
    "            # Then merge with users on User-ID\n",
    "            logger.info(\"Merging with users...\")\n",
    "            final_df = pd.merge(\n",
    "                book_ratings,\n",
    "                users_df,\n",
    "                on='User-ID',\n",
    "                how='left'\n",
    "            )\n",
    "            \n",
    "            logger.info(f\"Merged dataset shape: {final_df.shape}\")\n",
    "            \n",
    "            # Save merged data\n",
    "            merged_path = os.path.join(self.config.root_dir, \"merged_data.csv\")\n",
    "            final_df.to_csv(merged_path, index=False)\n",
    "            logger.info(f\"Saved merged data to {merged_path}\")\n",
    "            \n",
    "            return final_df\n",
    "            \n",
    "        except Exception as e:\n",
    "            logger.error(f\"Error merging datasets: {e}\")\n",
    "            raise e"
   ]
  },
  {
   "cell_type": "code",
   "execution_count": 10,
   "id": "82c15bf3",
   "metadata": {},
   "outputs": [
    {
     "name": "stdout",
     "output_type": "stream",
     "text": [
      "[2025-06-16 10:35:20,810: INFO: common: yaml file: config\\config.yaml loaded successfully]\n",
      "[2025-06-16 10:35:20,811: INFO: common: created directory at: artifacts]\n",
      "[2025-06-16 10:35:20,812: INFO: common: created directory at: artifacts/data_ingestion]\n",
      "[2025-06-16 10:35:20,813: INFO: 1284476475: Downloading dataset from Kaggle: arashnic/book-recommendation-dataset]\n",
      "Dataset URL: https://www.kaggle.com/datasets/arashnic/book-recommendation-dataset\n",
      "[2025-06-16 10:35:49,574: INFO: 1284476475: Downloaded dataset to: artifacts/data_ingestion/data.zip]\n",
      "[2025-06-16 10:35:49,993: INFO: 1284476475: Extracted data to: artifacts/data_ingestion/data]\n"
     ]
    }
   ],
   "source": [
    "try:\n",
    "    config = ConfigurationManager()\n",
    "    data_ingestion_config = config.get_data_ingestion_config()\n",
    "    data_ingestion = DataIngestion(config=data_ingestion_config)\n",
    "    data_ingestion.download_file()\n",
    "    data_ingestion.extract_zip_file()\n",
    "except Exception as e:\n",
    "    raise e"
   ]
  }
 ],
 "metadata": {
  "kernelspec": {
   "display_name": "recommendation-engine-env",
   "language": "python",
   "name": "python3"
  },
  "language_info": {
   "codemirror_mode": {
    "name": "ipython",
    "version": 3
   },
   "file_extension": ".py",
   "mimetype": "text/x-python",
   "name": "python",
   "nbconvert_exporter": "python",
   "pygments_lexer": "ipython3",
   "version": "3.12.3"
  }
 },
 "nbformat": 4,
 "nbformat_minor": 5
}
