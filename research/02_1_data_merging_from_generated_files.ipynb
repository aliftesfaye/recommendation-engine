{
 "cells": [
  {
   "cell_type": "code",
   "execution_count": 1,
   "id": "37a5cb3b",
   "metadata": {},
   "outputs": [],
   "source": [
    "import os"
   ]
  },
  {
   "cell_type": "code",
   "execution_count": 2,
   "id": "50461168",
   "metadata": {},
   "outputs": [
    {
     "data": {
      "text/plain": [
       "'d:\\\\recommendation-engine\\\\research'"
      ]
     },
     "execution_count": 2,
     "metadata": {},
     "output_type": "execute_result"
    }
   ],
   "source": [
    "%pwd"
   ]
  },
  {
   "cell_type": "code",
   "execution_count": 3,
   "id": "cadc0243",
   "metadata": {},
   "outputs": [],
   "source": [
    "os.chdir(\"../\")"
   ]
  },
  {
   "cell_type": "code",
   "execution_count": 4,
   "id": "83f86aac",
   "metadata": {},
   "outputs": [
    {
     "data": {
      "text/plain": [
       "'d:\\\\recommendation-engine'"
      ]
     },
     "execution_count": 4,
     "metadata": {},
     "output_type": "execute_result"
    }
   ],
   "source": [
    "%pwd"
   ]
  },
  {
   "cell_type": "code",
   "execution_count": 5,
   "id": "d9c8792d",
   "metadata": {},
   "outputs": [],
   "source": [
    "import pandas as pd"
   ]
  },
  {
   "cell_type": "code",
   "execution_count": 6,
   "id": "c9e97958",
   "metadata": {},
   "outputs": [
    {
     "data": {
      "text/html": [
       "<div>\n",
       "<style scoped>\n",
       "    .dataframe tbody tr th:only-of-type {\n",
       "        vertical-align: middle;\n",
       "    }\n",
       "\n",
       "    .dataframe tbody tr th {\n",
       "        vertical-align: top;\n",
       "    }\n",
       "\n",
       "    .dataframe thead th {\n",
       "        text-align: right;\n",
       "    }\n",
       "</style>\n",
       "<table border=\"1\" class=\"dataframe\">\n",
       "  <thead>\n",
       "    <tr style=\"text-align: right;\">\n",
       "      <th></th>\n",
       "      <th>user_id</th>\n",
       "      <th>liked_event_id</th>\n",
       "      <th>liked_event_organizer_id</th>\n",
       "      <th>like_id</th>\n",
       "    </tr>\n",
       "  </thead>\n",
       "  <tbody>\n",
       "    <tr>\n",
       "      <th>0</th>\n",
       "      <td>dd273811-54c2-4c13-b0a5-fca4f3b621b8</td>\n",
       "      <td>66fa3a5d-fb3d-4faf-a295-2b7456f18620</td>\n",
       "      <td>1aafbaa0-9efd-4d51-adbb-310e8a3355d5</td>\n",
       "      <td>12f33ebf-2424-43b6-a72d-d8bcdc9ce806</td>\n",
       "    </tr>\n",
       "    <tr>\n",
       "      <th>1</th>\n",
       "      <td>09c23f75-ed99-49e7-8a34-2d9eb0c7f991</td>\n",
       "      <td>87ab34fa-e294-4f40-a51a-546079da2463</td>\n",
       "      <td>53da9a59-b5be-4ce2-bd73-e79826611b1c</td>\n",
       "      <td>e6e31bc3-219d-49e2-8344-3bb30b9e5fcc</td>\n",
       "    </tr>\n",
       "    <tr>\n",
       "      <th>2</th>\n",
       "      <td>f81fffe9-8813-48f9-87dc-01853f46e603</td>\n",
       "      <td>6b660a1b-07da-4c64-876e-03542029ed15</td>\n",
       "      <td>fcd1270d-0dd3-41ee-b999-7d39768c3369</td>\n",
       "      <td>cb4e26e2-76fa-4042-bb7f-2433dcf4ca2f</td>\n",
       "    </tr>\n",
       "    <tr>\n",
       "      <th>3</th>\n",
       "      <td>bd4d04b9-98cc-4937-bf84-f3e092a30758</td>\n",
       "      <td>39def82b-1f0a-4278-9d37-1ce25daf4cae</td>\n",
       "      <td>d86d4720-3bf8-49f9-85e3-a2d1c37d4cce</td>\n",
       "      <td>97e6060e-83ed-4510-9dcd-01b16614b867</td>\n",
       "    </tr>\n",
       "    <tr>\n",
       "      <th>4</th>\n",
       "      <td>cec3a311-1115-4f88-bf7b-8f2e67b59196</td>\n",
       "      <td>ba8c9541-9d61-4163-bc64-d613685ef041</td>\n",
       "      <td>85ddc80b-ecf1-4895-b690-d1d3f23c9576</td>\n",
       "      <td>7cea1a78-d43b-4120-bab5-159fc832001b</td>\n",
       "    </tr>\n",
       "  </tbody>\n",
       "</table>\n",
       "</div>"
      ],
      "text/plain": [
       "                                user_id                        liked_event_id  \\\n",
       "0  dd273811-54c2-4c13-b0a5-fca4f3b621b8  66fa3a5d-fb3d-4faf-a295-2b7456f18620   \n",
       "1  09c23f75-ed99-49e7-8a34-2d9eb0c7f991  87ab34fa-e294-4f40-a51a-546079da2463   \n",
       "2  f81fffe9-8813-48f9-87dc-01853f46e603  6b660a1b-07da-4c64-876e-03542029ed15   \n",
       "3  bd4d04b9-98cc-4937-bf84-f3e092a30758  39def82b-1f0a-4278-9d37-1ce25daf4cae   \n",
       "4  cec3a311-1115-4f88-bf7b-8f2e67b59196  ba8c9541-9d61-4163-bc64-d613685ef041   \n",
       "\n",
       "               liked_event_organizer_id                               like_id  \n",
       "0  1aafbaa0-9efd-4d51-adbb-310e8a3355d5  12f33ebf-2424-43b6-a72d-d8bcdc9ce806  \n",
       "1  53da9a59-b5be-4ce2-bd73-e79826611b1c  e6e31bc3-219d-49e2-8344-3bb30b9e5fcc  \n",
       "2  fcd1270d-0dd3-41ee-b999-7d39768c3369  cb4e26e2-76fa-4042-bb7f-2433dcf4ca2f  \n",
       "3  d86d4720-3bf8-49f9-85e3-a2d1c37d4cce  97e6060e-83ed-4510-9dcd-01b16614b867  \n",
       "4  85ddc80b-ecf1-4895-b690-d1d3f23c9576  7cea1a78-d43b-4120-bab5-159fc832001b  "
      ]
     },
     "execution_count": 6,
     "metadata": {},
     "output_type": "execute_result"
    }
   ],
   "source": [
    "bookings = pd.read_csv(\"artifacts/data_ingestion/generated_data/bookings.csv\")\n",
    "comments = pd.read_csv(\"artifacts/data_ingestion/generated_data/comments.csv\")\n",
    "likes = pd.read_csv(\"artifacts/data_ingestion/generated_data/likes.csv\")\n",
    "bookings.head()\n",
    "comments.head()\n",
    "likes.head()"
   ]
  },
  {
   "cell_type": "code",
   "execution_count": 7,
   "id": "3cb2f7a5",
   "metadata": {},
   "outputs": [
    {
     "name": "stdout",
     "output_type": "stream",
     "text": [
      "<class 'pandas.core.frame.DataFrame'>\n",
      "RangeIndex: 150000 entries, 0 to 149999\n",
      "Data columns (total 4 columns):\n",
      " #   Column                     Non-Null Count   Dtype \n",
      "---  ------                     --------------   ----- \n",
      " 0   user_id                    150000 non-null  object\n",
      " 1   booked_event_id            150000 non-null  object\n",
      " 2   booked_event_organizer_id  150000 non-null  object\n",
      " 3   booking_id                 150000 non-null  object\n",
      "dtypes: object(4)\n",
      "memory usage: 4.6+ MB\n"
     ]
    }
   ],
   "source": [
    "bookings.info()\n"
   ]
  },
  {
   "cell_type": "code",
   "execution_count": 8,
   "id": "d6bcc184",
   "metadata": {},
   "outputs": [
    {
     "name": "stdout",
     "output_type": "stream",
     "text": [
      "<class 'pandas.core.frame.DataFrame'>\n",
      "RangeIndex: 245397 entries, 0 to 245396\n",
      "Data columns (total 4 columns):\n",
      " #   Column                        Non-Null Count   Dtype \n",
      "---  ------                        --------------   ----- \n",
      " 0   user_id                       245397 non-null  object\n",
      " 1   commented_event_id            245397 non-null  object\n",
      " 2   commented_event_organizer_id  245397 non-null  object\n",
      " 3   comment_id                    245397 non-null  object\n",
      "dtypes: object(4)\n",
      "memory usage: 7.5+ MB\n"
     ]
    }
   ],
   "source": [
    "comments.info()\n"
   ]
  },
  {
   "cell_type": "code",
   "execution_count": 9,
   "id": "2fd6956e",
   "metadata": {},
   "outputs": [
    {
     "name": "stdout",
     "output_type": "stream",
     "text": [
      "<class 'pandas.core.frame.DataFrame'>\n",
      "RangeIndex: 145397 entries, 0 to 145396\n",
      "Data columns (total 4 columns):\n",
      " #   Column                    Non-Null Count   Dtype \n",
      "---  ------                    --------------   ----- \n",
      " 0   user_id                   145397 non-null  object\n",
      " 1   liked_event_id            145397 non-null  object\n",
      " 2   liked_event_organizer_id  145397 non-null  object\n",
      " 3   like_id                   145397 non-null  object\n",
      "dtypes: object(4)\n",
      "memory usage: 4.4+ MB\n"
     ]
    }
   ],
   "source": [
    "likes.info()"
   ]
  },
  {
   "cell_type": "code",
   "execution_count": null,
   "id": "d1c41425",
   "metadata": {},
   "outputs": [
    {
     "name": "stdout",
     "output_type": "stream",
     "text": [
      "Merged data saved successfully!\n",
      "Final dataset shape: (200000, 9)\n",
      "                                     user_id  \\\n",
      "119737  342a936b-14d4-4122-b40f-ee5e0968ab91   \n",
      "72272   ca40fc77-06e3-4c04-b0d1-c8ed0a9cb4aa   \n",
      "158154  41f36f68-7c52-43bc-8932-a97c97b039b3   \n",
      "65426   29bcc80f-52e2-4d72-8eba-85fa652a3b0b   \n",
      "30074   664c0cac-dba2-40f3-b5ac-25e203aa0b1f   \n",
      "\n",
      "                                    event_id  is_booked  num_bookings  \\\n",
      "119737  eeab2cd6-bb34-4f89-a0f3-02488069b2b0          0             0   \n",
      "72272   6e94de22-28ad-47a2-b035-96828df991e3          0             0   \n",
      "158154  59a6b2ee-46cf-4c38-89be-3b0e7e2cbcb6          1             4   \n",
      "65426   9b3a174a-4bc4-46f3-b3c7-37d3d663d9ad          0             0   \n",
      "30074   324d7093-4571-40a9-9032-128ce3e35e4f          0             0   \n",
      "\n",
      "        is_liked  num_likes  is_commented  num_comments  \\\n",
      "119737         0          0             1             1   \n",
      "72272          0          0             1             3   \n",
      "158154         0          0             0             0   \n",
      "65426          0          0             1             1   \n",
      "30074          0          0             1             1   \n",
      "\n",
      "                                organizer_id  \n",
      "119737  c9e01e68-2795-4deb-be83-cb1f8309c0a7  \n",
      "72272   5aa8c342-7fb9-4cac-8901-00b3d4ab5272  \n",
      "158154  2a5c87b1-5dd2-4e99-a300-ab64ba8d7148  \n",
      "65426   b336efb2-ecc3-484c-b39c-39b534f712b8  \n",
      "30074   eedcafed-6fc9-4d73-9c12-3dc3096af5b8  \n"
     ]
    }
   ],
   "source": [
    "bookings = bookings.rename(columns={\n",
    "    'booked_event_id': 'event_id',\n",
    "    'booked_event_organizer_id': 'organizer_id',\n",
    "    'booking_id': 'id'\n",
    "})\n",
    "\n",
    "comments = comments.rename(columns={\n",
    "    'commented_event_id': 'event_id',\n",
    "    'commented_event_organizer_id': 'organizer_id',\n",
    "    'comment_id': 'id'\n",
    "})\n",
    "\n",
    "likes = likes.rename(columns={\n",
    "    'liked_event_id': 'event_id',\n",
    "    'liked_event_organizer_id': 'organizer_id',\n",
    "    'like_id': 'id'\n",
    "})\n",
    "\n",
    "bookings_df = bookings[['user_id', 'event_id', 'organizer_id']].copy()\n",
    "bookings_df['is_booked'] = 1\n",
    "bookings_df['num_bookings'] = 1\n",
    "\n",
    "comments_df = comments[['user_id', 'event_id', 'organizer_id']].copy()\n",
    "comments_df['is_commented'] = 1\n",
    "comments_df['num_comments'] = 1\n",
    "\n",
    "likes_df = likes[['user_id', 'event_id', 'organizer_id']].copy()\n",
    "likes_df['is_liked'] = 1\n",
    "likes_df['num_likes'] = 1\n",
    "\n",
    "unique_pairs = pd.concat([\n",
    "    bookings[['user_id', 'event_id']],\n",
    "    comments[['user_id', 'event_id']],\n",
    "    likes[['user_id', 'event_id']]\n",
    "]).drop_duplicates()\n",
    "\n",
    "if len(unique_pairs) > 200000:\n",
    "    unique_pairs = unique_pairs.sample(n=200000, random_state=42)\n",
    "\n",
    "organizer_mapping = pd.concat([\n",
    "    bookings[['event_id', 'organizer_id']],\n",
    "    comments[['event_id', 'organizer_id']],\n",
    "    likes[['event_id', 'organizer_id']]\n",
    "]).groupby('event_id')['organizer_id'].agg(lambda x: x.mode()[0]).to_dict()\n",
    "\n",
    "result = unique_pairs.copy()\n",
    "\n",
    "result = result.merge(\n",
    "    bookings_df.groupby(['user_id', 'event_id']).agg({\n",
    "        'is_booked': 'max',\n",
    "        'num_bookings': 'sum',\n",
    "        'organizer_id': 'first'\n",
    "    }).reset_index(),\n",
    "    on=['user_id', 'event_id'],\n",
    "    how='left'\n",
    ")\n",
    "\n",
    "result = result.merge(\n",
    "    comments_df.groupby(['user_id', 'event_id']).agg({\n",
    "        'is_commented': 'max',\n",
    "        'num_comments': 'sum',\n",
    "        'organizer_id': 'first'\n",
    "    }).reset_index(),\n",
    "    on=['user_id', 'event_id'],\n",
    "    how='left'\n",
    ")\n",
    "\n",
    "result = result.merge(\n",
    "    likes_df.groupby(['user_id', 'event_id']).agg({\n",
    "        'is_liked': 'max',\n",
    "        'num_likes': 'sum',\n",
    "        'organizer_id': 'first'\n",
    "    }).reset_index(),\n",
    "    on=['user_id', 'event_id'],\n",
    "    how='left'\n",
    ")\n",
    "\n",
    "for col in ['is_booked', 'num_bookings', 'is_commented', 'num_comments', 'is_liked', 'num_likes']:\n",
    "    result[col] = result[col].fillna(0).astype(int)\n",
    "\n",
    "result['organizer_id'] = (result['organizer_id_x']\n",
    "                         .fillna(result['organizer_id_y'])\n",
    "                         .fillna(result['organizer_id']))\n",
    "\n",
    "result['organizer_id'] = result['organizer_id'].fillna(result['event_id'].map(organizer_mapping))\n",
    "\n",
    "final_data = result[[\n",
    "    'user_id', \n",
    "    'event_id', \n",
    "    'is_booked',\n",
    "    'num_bookings',\n",
    "    'is_liked',\n",
    "    'num_likes',\n",
    "    'is_commented', \n",
    "    'num_comments', \n",
    "    'organizer_id'\n",
    "]]\n",
    "\n",
    "final_data = final_data.drop_duplicates().sample(n=min(200000, len(final_data)), random_state=42)\n",
    "\n",
    "final_data.to_csv(\"artifacts/data_ingestion/generated_data/merged_interactions.csv\", index=False)\n",
    "\n",
    "print(\"Merged data saved successfully!\")\n",
    "print(f\"Final dataset shape: {final_data.shape}\")\n",
    "print(final_data.head())"
   ]
  }
 ],
 "metadata": {
  "kernelspec": {
   "display_name": "recommendation-engine-env",
   "language": "python",
   "name": "python3"
  },
  "language_info": {
   "codemirror_mode": {
    "name": "ipython",
    "version": 3
   },
   "file_extension": ".py",
   "mimetype": "text/x-python",
   "name": "python",
   "nbconvert_exporter": "python",
   "pygments_lexer": "ipython3",
   "version": "3.12.3"
  }
 },
 "nbformat": 4,
 "nbformat_minor": 5
}
