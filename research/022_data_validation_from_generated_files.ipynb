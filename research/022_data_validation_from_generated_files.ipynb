{
 "cells": [
  {
   "cell_type": "code",
   "execution_count": 1,
   "id": "37a5cb3b",
   "metadata": {},
   "outputs": [],
   "source": [
    "import os"
   ]
  },
  {
   "cell_type": "code",
   "execution_count": 2,
   "id": "50461168",
   "metadata": {},
   "outputs": [
    {
     "data": {
      "text/plain": [
       "'d:\\\\recommendation-engine\\\\research'"
      ]
     },
     "execution_count": 2,
     "metadata": {},
     "output_type": "execute_result"
    }
   ],
   "source": [
    "%pwd"
   ]
  },
  {
   "cell_type": "code",
   "execution_count": 3,
   "id": "cadc0243",
   "metadata": {},
   "outputs": [],
   "source": [
    "os.chdir(\"../\")"
   ]
  },
  {
   "cell_type": "code",
   "execution_count": 4,
   "id": "83f86aac",
   "metadata": {},
   "outputs": [
    {
     "data": {
      "text/plain": [
       "'d:\\\\recommendation-engine'"
      ]
     },
     "execution_count": 4,
     "metadata": {},
     "output_type": "execute_result"
    }
   ],
   "source": [
    "%pwd"
   ]
  },
  {
   "cell_type": "code",
   "execution_count": 5,
   "id": "d9c8792d",
   "metadata": {},
   "outputs": [],
   "source": [
    "import pandas as pd"
   ]
  },
  {
   "cell_type": "code",
   "execution_count": 6,
   "id": "c9e97958",
   "metadata": {},
   "outputs": [
    {
     "data": {
      "text/html": [
       "<div>\n",
       "<style scoped>\n",
       "    .dataframe tbody tr th:only-of-type {\n",
       "        vertical-align: middle;\n",
       "    }\n",
       "\n",
       "    .dataframe tbody tr th {\n",
       "        vertical-align: top;\n",
       "    }\n",
       "\n",
       "    .dataframe thead th {\n",
       "        text-align: right;\n",
       "    }\n",
       "</style>\n",
       "<table border=\"1\" class=\"dataframe\">\n",
       "  <thead>\n",
       "    <tr style=\"text-align: right;\">\n",
       "      <th></th>\n",
       "      <th>user_id</th>\n",
       "      <th>booked_event_id</th>\n",
       "      <th>booked_event_organizer_id</th>\n",
       "      <th>booking_id</th>\n",
       "    </tr>\n",
       "  </thead>\n",
       "  <tbody>\n",
       "    <tr>\n",
       "      <th>0</th>\n",
       "      <td>ee00034d-050a-4d08-b82f-f73234e36f18</td>\n",
       "      <td>49632a17-c8de-4dc1-b70e-1d82df4365b8</td>\n",
       "      <td>1a469fec-484c-483c-8e9b-c8d7d379ddbd</td>\n",
       "      <td>241d563b-9aa5-443c-ac20-d34e34beab68</td>\n",
       "    </tr>\n",
       "    <tr>\n",
       "      <th>1</th>\n",
       "      <td>baba8c29-dbb6-4fdf-82c3-033ccaee01cd</td>\n",
       "      <td>5056d7d9-7561-4878-add6-80d1f7d7dc14</td>\n",
       "      <td>cf6095dc-decb-4331-8cc1-9c52952d095b</td>\n",
       "      <td>5623eef6-3273-49a0-9758-7746ca620995</td>\n",
       "    </tr>\n",
       "    <tr>\n",
       "      <th>2</th>\n",
       "      <td>936a5038-8683-4b10-a3b7-0c35e8f968b4</td>\n",
       "      <td>ea404f23-cfc1-4563-8de0-321bfc003f0d</td>\n",
       "      <td>515858ee-fbff-48c3-841c-c717ddb54701</td>\n",
       "      <td>ae2e687f-624a-484e-8ee6-d78409c2c582</td>\n",
       "    </tr>\n",
       "    <tr>\n",
       "      <th>3</th>\n",
       "      <td>1e720e97-ce89-4c4f-90ef-a2651ae06f58</td>\n",
       "      <td>a5d876e7-d61a-46a9-8b3a-f8de70e15004</td>\n",
       "      <td>5aae934f-5a2d-4e38-a0f4-54a3c174d2a2</td>\n",
       "      <td>710d59f9-d49c-4f42-8379-ca543e033d77</td>\n",
       "    </tr>\n",
       "    <tr>\n",
       "      <th>4</th>\n",
       "      <td>baed69ca-149e-465f-a21e-0b4e9e124899</td>\n",
       "      <td>d490e063-72bc-4a36-a87f-120c4db28a3f</td>\n",
       "      <td>9e396395-0952-497c-9a01-01598c0f8f1c</td>\n",
       "      <td>e7cae6ee-2ee8-4ada-8b9c-ffa7897874c1</td>\n",
       "    </tr>\n",
       "  </tbody>\n",
       "</table>\n",
       "</div>"
      ],
      "text/plain": [
       "                                user_id                       booked_event_id  \\\n",
       "0  ee00034d-050a-4d08-b82f-f73234e36f18  49632a17-c8de-4dc1-b70e-1d82df4365b8   \n",
       "1  baba8c29-dbb6-4fdf-82c3-033ccaee01cd  5056d7d9-7561-4878-add6-80d1f7d7dc14   \n",
       "2  936a5038-8683-4b10-a3b7-0c35e8f968b4  ea404f23-cfc1-4563-8de0-321bfc003f0d   \n",
       "3  1e720e97-ce89-4c4f-90ef-a2651ae06f58  a5d876e7-d61a-46a9-8b3a-f8de70e15004   \n",
       "4  baed69ca-149e-465f-a21e-0b4e9e124899  d490e063-72bc-4a36-a87f-120c4db28a3f   \n",
       "\n",
       "              booked_event_organizer_id                            booking_id  \n",
       "0  1a469fec-484c-483c-8e9b-c8d7d379ddbd  241d563b-9aa5-443c-ac20-d34e34beab68  \n",
       "1  cf6095dc-decb-4331-8cc1-9c52952d095b  5623eef6-3273-49a0-9758-7746ca620995  \n",
       "2  515858ee-fbff-48c3-841c-c717ddb54701  ae2e687f-624a-484e-8ee6-d78409c2c582  \n",
       "3  5aae934f-5a2d-4e38-a0f4-54a3c174d2a2  710d59f9-d49c-4f42-8379-ca543e033d77  \n",
       "4  9e396395-0952-497c-9a01-01598c0f8f1c  e7cae6ee-2ee8-4ada-8b9c-ffa7897874c1  "
      ]
     },
     "execution_count": 6,
     "metadata": {},
     "output_type": "execute_result"
    }
   ],
   "source": [
    "data = pd.read_csv(\"artifacts/data_ingestion/generated_data/bookings.csv\")\n",
    "data.head()"
   ]
  },
  {
   "cell_type": "code",
   "execution_count": 7,
   "id": "3cb2f7a5",
   "metadata": {},
   "outputs": [
    {
     "name": "stdout",
     "output_type": "stream",
     "text": [
      "<class 'pandas.core.frame.DataFrame'>\n",
      "RangeIndex: 100000 entries, 0 to 99999\n",
      "Data columns (total 4 columns):\n",
      " #   Column                     Non-Null Count   Dtype \n",
      "---  ------                     --------------   ----- \n",
      " 0   user_id                    100000 non-null  object\n",
      " 1   booked_event_id            100000 non-null  object\n",
      " 2   booked_event_organizer_id  100000 non-null  object\n",
      " 3   booking_id                 100000 non-null  object\n",
      "dtypes: object(4)\n",
      "memory usage: 3.1+ MB\n"
     ]
    }
   ],
   "source": [
    "data.info()"
   ]
  },
  {
   "cell_type": "code",
   "execution_count": null,
   "id": "d1c41425",
   "metadata": {},
   "outputs": [],
   "source": [
    "from dataclasses import dataclass\n",
    "from pathlib import Path\n",
    "\n",
    "\n",
    "@dataclass(frozen=True)\n",
    "class DataValidationConfig:\n",
    "    root_dir: Path\n",
    "    STATUS_FILE: str\n",
    "    merged_data_url: Path\n",
    "    all_schema: dict"
   ]
  },
  {
   "cell_type": "code",
   "execution_count": 9,
   "id": "78235de1",
   "metadata": {},
   "outputs": [],
   "source": [
    "from src.hybrid_recommender.constants import *\n",
    "from src.hybrid_recommender.utils.common import read_yaml, create_directories"
   ]
  },
  {
   "cell_type": "code",
   "execution_count": 10,
   "id": "9f8582a4",
   "metadata": {},
   "outputs": [],
   "source": [
    "class ConfigurationManager:\n",
    "    def __init__(\n",
    "        self,\n",
    "        config_filepath = CONFIG_FILE_PATH,\n",
    "        params_filepath = PARAMS_FILE_PATH,\n",
    "        schema_filepath = SCHEMA_FILE_PATH):\n",
    "\n",
    "        self.config = read_yaml(config_filepath)\n",
    "        self.params = read_yaml(params_filepath)\n",
    "        self.schema = read_yaml(schema_filepath)\n",
    "\n",
    "        create_directories([self.config.artifacts_root])\n",
    "\n",
    "\n",
    "    \n",
    "    def get_data_validation_config(self) -> DataValidationConfig:\n",
    "        config = self.config.data_validation\n",
    "        schema = self.schema.COLUMNS\n",
    "\n",
    "        create_directories([config.root_dir])\n",
    "\n",
    "        data_validation_config = DataValidationConfig(\n",
    "            root_dir=config.root_dir,\n",
    "            STATUS_FILE=config.STATUS_FILE,\n",
    "            unzip_data_dir = config.unzip_data_dir,\n",
    "            merged_data_url = config.merged_data_url,\n",
    "            all_schema=schema,\n",
    "        )\n",
    "\n",
    "        return data_validation_config"
   ]
  },
  {
   "cell_type": "code",
   "execution_count": 11,
   "id": "4fbeea75",
   "metadata": {},
   "outputs": [],
   "source": [
    "import os\n",
    "from src.hybrid_recommender import logger\n"
   ]
  },
  {
   "cell_type": "code",
   "execution_count": 12,
   "id": "2da2fd8d",
   "metadata": {},
   "outputs": [],
   "source": [
    "class DataValiadtion:\n",
    "    def __init__(self, config: DataValidationConfig):\n",
    "        self.config = config\n",
    "\n",
    "\n",
    "    def validate_all_columns(self)-> bool:\n",
    "        try:\n",
    "            validation_status = None\n",
    "\n",
    "            data = pd.read_csv(self.config.merged_data_url)\n",
    "            all_cols = list(data.columns)\n",
    "\n",
    "            all_schema = self.config.all_schema.keys()\n",
    "\n",
    "            \n",
    "            for col in all_cols:\n",
    "                if col not in all_schema:\n",
    "                    validation_status = False\n",
    "                    with open(self.config.STATUS_FILE, 'w') as f:\n",
    "                        f.write(f\"Validation status: {validation_status}\")\n",
    "                else:\n",
    "                    validation_status = True\n",
    "                    with open(self.config.STATUS_FILE, 'w') as f:\n",
    "                        f.write(f\"Validation status: {validation_status}\")\n",
    "\n",
    "            return validation_status\n",
    "        \n",
    "        except Exception as e:\n",
    "            raise e"
   ]
  },
  {
   "cell_type": "code",
   "execution_count": 13,
   "id": "9460d604",
   "metadata": {},
   "outputs": [
    {
     "name": "stdout",
     "output_type": "stream",
     "text": [
      "[2025-06-17 05:45:25,206: INFO: common: yaml file: config\\config.yaml loaded successfully]\n",
      "[2025-06-17 05:45:25,210: INFO: common: yaml file: params.yaml loaded successfully]\n",
      "[2025-06-17 05:45:25,220: INFO: common: yaml file: schema.yaml loaded successfully]\n",
      "[2025-06-17 05:45:25,220: INFO: common: created directory at: artifacts]\n",
      "[2025-06-17 05:45:25,220: INFO: common: created directory at: artifacts/data_validation]\n"
     ]
    }
   ],
   "source": [
    "try:\n",
    "    config = ConfigurationManager()\n",
    "    data_validation_config = config.get_data_validation_config()\n",
    "    data_validation = DataValiadtion(config=data_validation_config)\n",
    "    data_validation.validate_all_columns()\n",
    "except Exception as e:\n",
    "    raise e"
   ]
  }
 ],
 "metadata": {
  "kernelspec": {
   "display_name": "recommendation-engine-env",
   "language": "python",
   "name": "python3"
  },
  "language_info": {
   "codemirror_mode": {
    "name": "ipython",
    "version": 3
   },
   "file_extension": ".py",
   "mimetype": "text/x-python",
   "name": "python",
   "nbconvert_exporter": "python",
   "pygments_lexer": "ipython3",
   "version": "3.12.3"
  }
 },
 "nbformat": 4,
 "nbformat_minor": 5
}
