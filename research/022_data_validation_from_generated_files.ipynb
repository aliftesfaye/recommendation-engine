{
 "cells": [
  {
   "cell_type": "code",
   "execution_count": 1,
   "id": "37a5cb3b",
   "metadata": {},
   "outputs": [],
   "source": [
    "import os"
   ]
  },
  {
   "cell_type": "code",
   "execution_count": 2,
   "id": "50461168",
   "metadata": {},
   "outputs": [
    {
     "data": {
      "text/plain": [
       "'d:\\\\recommendation-engine\\\\research'"
      ]
     },
     "execution_count": 2,
     "metadata": {},
     "output_type": "execute_result"
    }
   ],
   "source": [
    "%pwd"
   ]
  },
  {
   "cell_type": "code",
   "execution_count": 3,
   "id": "cadc0243",
   "metadata": {},
   "outputs": [],
   "source": [
    "os.chdir(\"../\")"
   ]
  },
  {
   "cell_type": "code",
   "execution_count": 4,
   "id": "83f86aac",
   "metadata": {},
   "outputs": [
    {
     "data": {
      "text/plain": [
       "'d:\\\\recommendation-engine'"
      ]
     },
     "execution_count": 4,
     "metadata": {},
     "output_type": "execute_result"
    }
   ],
   "source": [
    "%pwd"
   ]
  },
  {
   "cell_type": "code",
   "execution_count": 5,
   "id": "d9c8792d",
   "metadata": {},
   "outputs": [],
   "source": [
    "import pandas as pd"
   ]
  },
  {
   "cell_type": "code",
   "execution_count": 6,
   "id": "c9e97958",
   "metadata": {},
   "outputs": [
    {
     "data": {
      "text/html": [
       "<div>\n",
       "<style scoped>\n",
       "    .dataframe tbody tr th:only-of-type {\n",
       "        vertical-align: middle;\n",
       "    }\n",
       "\n",
       "    .dataframe tbody tr th {\n",
       "        vertical-align: top;\n",
       "    }\n",
       "\n",
       "    .dataframe thead th {\n",
       "        text-align: right;\n",
       "    }\n",
       "</style>\n",
       "<table border=\"1\" class=\"dataframe\">\n",
       "  <thead>\n",
       "    <tr style=\"text-align: right;\">\n",
       "      <th></th>\n",
       "      <th>user_id</th>\n",
       "      <th>liked_event_id</th>\n",
       "      <th>liked_event_organizer_id</th>\n",
       "      <th>like_id</th>\n",
       "    </tr>\n",
       "  </thead>\n",
       "  <tbody>\n",
       "    <tr>\n",
       "      <th>0</th>\n",
       "      <td>c58d422b-c612-4088-8645-6b65e8de2992</td>\n",
       "      <td>f36541da-a645-40ea-8d0c-dd11452b36ef</td>\n",
       "      <td>545c1990-0afa-4916-9699-bd6201976dfe</td>\n",
       "      <td>7f7acffe-72cd-4342-9a76-b9121d1081fb</td>\n",
       "    </tr>\n",
       "    <tr>\n",
       "      <th>1</th>\n",
       "      <td>f4ba7042-6fae-4a7a-ab43-cd20bbcb0979</td>\n",
       "      <td>f3159360-6da4-42f4-99d7-34b078d194da</td>\n",
       "      <td>14257c8a-014a-4a69-a3ea-4bcc57a0396f</td>\n",
       "      <td>340e2498-0efb-4716-b1d3-448c40657b9c</td>\n",
       "    </tr>\n",
       "    <tr>\n",
       "      <th>2</th>\n",
       "      <td>5e093549-092a-4341-83a0-6a2164cc84f3</td>\n",
       "      <td>6b3f6145-572e-4494-87f5-5e5891635eff</td>\n",
       "      <td>b173f9c2-3825-4c87-a724-99c2882030e6</td>\n",
       "      <td>b8fb93c9-08cd-4403-817a-2b1650c3b936</td>\n",
       "    </tr>\n",
       "    <tr>\n",
       "      <th>3</th>\n",
       "      <td>ed762490-2c8a-4126-aae4-65927fd6c998</td>\n",
       "      <td>0f4b8b49-4acf-42a3-b76c-dd2452c52434</td>\n",
       "      <td>42409373-2ba7-4322-a0b5-1aa437afec57</td>\n",
       "      <td>6d639090-faad-4f44-9662-d3624a16d07f</td>\n",
       "    </tr>\n",
       "    <tr>\n",
       "      <th>4</th>\n",
       "      <td>63211825-4aa2-498f-b5df-a853ee0df8a8</td>\n",
       "      <td>0c8e254b-96bd-45a0-bfff-232a3ed50ba6</td>\n",
       "      <td>5a0e9844-ecb1-4ccf-8b50-a6bc118872f5</td>\n",
       "      <td>badb04e3-7c28-4f00-9784-0968fe10f12f</td>\n",
       "    </tr>\n",
       "  </tbody>\n",
       "</table>\n",
       "</div>"
      ],
      "text/plain": [
       "                                user_id                        liked_event_id  \\\n",
       "0  c58d422b-c612-4088-8645-6b65e8de2992  f36541da-a645-40ea-8d0c-dd11452b36ef   \n",
       "1  f4ba7042-6fae-4a7a-ab43-cd20bbcb0979  f3159360-6da4-42f4-99d7-34b078d194da   \n",
       "2  5e093549-092a-4341-83a0-6a2164cc84f3  6b3f6145-572e-4494-87f5-5e5891635eff   \n",
       "3  ed762490-2c8a-4126-aae4-65927fd6c998  0f4b8b49-4acf-42a3-b76c-dd2452c52434   \n",
       "4  63211825-4aa2-498f-b5df-a853ee0df8a8  0c8e254b-96bd-45a0-bfff-232a3ed50ba6   \n",
       "\n",
       "               liked_event_organizer_id                               like_id  \n",
       "0  545c1990-0afa-4916-9699-bd6201976dfe  7f7acffe-72cd-4342-9a76-b9121d1081fb  \n",
       "1  14257c8a-014a-4a69-a3ea-4bcc57a0396f  340e2498-0efb-4716-b1d3-448c40657b9c  \n",
       "2  b173f9c2-3825-4c87-a724-99c2882030e6  b8fb93c9-08cd-4403-817a-2b1650c3b936  \n",
       "3  42409373-2ba7-4322-a0b5-1aa437afec57  6d639090-faad-4f44-9662-d3624a16d07f  \n",
       "4  5a0e9844-ecb1-4ccf-8b50-a6bc118872f5  badb04e3-7c28-4f00-9784-0968fe10f12f  "
      ]
     },
     "execution_count": 6,
     "metadata": {},
     "output_type": "execute_result"
    }
   ],
   "source": [
    "data1 = pd.read_csv(\"artifacts/data_ingestion/generated_data/bookings.csv\")\n",
    "data2 = pd.read_csv(\"artifacts/data_ingestion/generated_data/comments.csv\")\n",
    "data3 = pd.read_csv(\"artifacts/data_ingestion/generated_data/likes.csv\")\n",
    "data1.head()\n",
    "data2.head()\n",
    "data3.head()"
   ]
  },
  {
   "cell_type": "code",
   "execution_count": 7,
   "id": "3cb2f7a5",
   "metadata": {},
   "outputs": [
    {
     "name": "stdout",
     "output_type": "stream",
     "text": [
      "<class 'pandas.core.frame.DataFrame'>\n",
      "RangeIndex: 150000 entries, 0 to 149999\n",
      "Data columns (total 4 columns):\n",
      " #   Column                     Non-Null Count   Dtype \n",
      "---  ------                     --------------   ----- \n",
      " 0   user_id                    150000 non-null  object\n",
      " 1   booked_event_id            150000 non-null  object\n",
      " 2   booked_event_organizer_id  150000 non-null  object\n",
      " 3   booking_id                 150000 non-null  object\n",
      "dtypes: object(4)\n",
      "memory usage: 4.6+ MB\n"
     ]
    }
   ],
   "source": [
    "data1.info()"
   ]
  },
  {
   "cell_type": "code",
   "execution_count": 8,
   "id": "d1c41425",
   "metadata": {},
   "outputs": [],
   "source": [
    "from dataclasses import dataclass\n",
    "from pathlib import Path\n",
    "\n",
    "\n",
    "@dataclass(frozen=True)\n",
    "class DataValidationConfig:\n",
    "    root_dir: Path\n",
    "    STATUS_FILE: str\n",
    "    merged_data_url: Path\n",
    "    unzip_data_dir: Path\n",
    "    all_schema: dict"
   ]
  },
  {
   "cell_type": "code",
   "execution_count": 9,
   "id": "78235de1",
   "metadata": {},
   "outputs": [],
   "source": [
    "from src.hybrid_recommender.constants import *\n",
    "from src.hybrid_recommender.utils.common import read_yaml, create_directories"
   ]
  },
  {
   "cell_type": "code",
   "execution_count": 10,
   "id": "9f8582a4",
   "metadata": {},
   "outputs": [],
   "source": [
    "class ConfigurationManager:\n",
    "    def __init__(\n",
    "        self,\n",
    "        config_filepath = CONFIG_FILE_PATH,\n",
    "        params_filepath = PARAMS_FILE_PATH,\n",
    "        schema_filepath = SCHEMA_FILE_PATH):\n",
    "\n",
    "        self.config = read_yaml(config_filepath)\n",
    "        self.params = read_yaml(params_filepath)\n",
    "        self.schema = read_yaml(schema_filepath)\n",
    "\n",
    "        create_directories([self.config.artifacts_root])\n",
    "\n",
    "\n",
    "    \n",
    "    def get_data_validation_config(self) -> DataValidationConfig:\n",
    "        config = self.config.data_validation\n",
    "        schema = self.schema.COLUMNS\n",
    "\n",
    "        create_directories([config.root_dir])\n",
    "\n",
    "        data_validation_config = DataValidationConfig(\n",
    "            root_dir=config.root_dir,\n",
    "            STATUS_FILE=config.STATUS_FILE,\n",
    "            unzip_data_dir = config.unzip_data_dir,\n",
    "            merged_data_url = config.merged_data_url,\n",
    "            all_schema=schema,\n",
    "        )\n",
    "\n",
    "        return data_validation_config"
   ]
  },
  {
   "cell_type": "code",
   "execution_count": 11,
   "id": "4fbeea75",
   "metadata": {},
   "outputs": [],
   "source": [
    "import os\n",
    "from src.hybrid_recommender import logger\n"
   ]
  },
  {
   "cell_type": "code",
   "execution_count": 12,
   "id": "2da2fd8d",
   "metadata": {},
   "outputs": [],
   "source": [
    "class DataValiadtion:\n",
    "    def __init__(self, config: DataValidationConfig):\n",
    "        self.config = config\n",
    "\n",
    "\n",
    "    def validate_all_columns(self)-> bool:\n",
    "        try:\n",
    "            validation_status = None\n",
    "\n",
    "            data = pd.read_csv(self.config.merged_data_url)\n",
    "            all_cols = list(data.columns)\n",
    "\n",
    "            all_schema = self.config.all_schema.keys()\n",
    "\n",
    "            \n",
    "            for col in all_cols:\n",
    "                if col not in all_schema:\n",
    "                    validation_status = False\n",
    "                    with open(self.config.STATUS_FILE, 'w') as f:\n",
    "                        f.write(f\"Validation status: {validation_status}\")\n",
    "                else:\n",
    "                    validation_status = True\n",
    "                    with open(self.config.STATUS_FILE, 'w') as f:\n",
    "                        f.write(f\"Validation status: {validation_status}\")\n",
    "\n",
    "            return validation_status\n",
    "        \n",
    "        except Exception as e:\n",
    "            raise e"
   ]
  },
  {
   "cell_type": "code",
   "execution_count": 13,
   "id": "9460d604",
   "metadata": {},
   "outputs": [
    {
     "name": "stdout",
     "output_type": "stream",
     "text": [
      "[2025-06-30 16:37:13,991: INFO: common: yaml file: config\\config.yaml loaded successfully]\n",
      "[2025-06-30 16:37:13,996: INFO: common: yaml file: params.yaml loaded successfully]\n",
      "[2025-06-30 16:37:13,996: INFO: common: yaml file: schema.yaml loaded successfully]\n",
      "[2025-06-30 16:37:13,996: INFO: common: created directory at: artifacts]\n",
      "[2025-06-30 16:37:13,996: INFO: common: created directory at: artifacts/data_validation]\n"
     ]
    }
   ],
   "source": [
    "try:\n",
    "    config = ConfigurationManager()\n",
    "    data_validation_config = config.get_data_validation_config()\n",
    "    data_validation = DataValiadtion(config=data_validation_config)\n",
    "    data_validation.validate_all_columns()\n",
    "except Exception as e:\n",
    "    raise e"
   ]
  }
 ],
 "metadata": {
  "kernelspec": {
   "display_name": "recommendation-engine-env",
   "language": "python",
   "name": "python3"
  },
  "language_info": {
   "codemirror_mode": {
    "name": "ipython",
    "version": 3
   },
   "file_extension": ".py",
   "mimetype": "text/x-python",
   "name": "python",
   "nbconvert_exporter": "python",
   "pygments_lexer": "ipython3",
   "version": "3.12.3"
  }
 },
 "nbformat": 4,
 "nbformat_minor": 5
}
