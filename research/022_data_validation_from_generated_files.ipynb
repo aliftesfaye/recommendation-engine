{
 "cells": [
  {
   "cell_type": "code",
   "execution_count": 1,
   "id": "37a5cb3b",
   "metadata": {},
   "outputs": [],
   "source": [
    "import os"
   ]
  },
  {
   "cell_type": "code",
   "execution_count": 2,
   "id": "50461168",
   "metadata": {},
   "outputs": [
    {
     "data": {
      "text/plain": [
       "'d:\\\\recommendation-engine\\\\research'"
      ]
     },
     "execution_count": 2,
     "metadata": {},
     "output_type": "execute_result"
    }
   ],
   "source": [
    "%pwd"
   ]
  },
  {
   "cell_type": "code",
   "execution_count": 3,
   "id": "cadc0243",
   "metadata": {},
   "outputs": [],
   "source": [
    "os.chdir(\"../\")"
   ]
  },
  {
   "cell_type": "code",
   "execution_count": 4,
   "id": "83f86aac",
   "metadata": {},
   "outputs": [
    {
     "data": {
      "text/plain": [
       "'d:\\\\recommendation-engine'"
      ]
     },
     "execution_count": 4,
     "metadata": {},
     "output_type": "execute_result"
    }
   ],
   "source": [
    "%pwd"
   ]
  },
  {
   "cell_type": "code",
   "execution_count": 5,
   "id": "d9c8792d",
   "metadata": {},
   "outputs": [],
   "source": [
    "import pandas as pd"
   ]
  },
  {
   "cell_type": "code",
   "execution_count": 6,
   "id": "c9e97958",
   "metadata": {},
   "outputs": [
    {
     "data": {
      "text/html": [
       "<div>\n",
       "<style scoped>\n",
       "    .dataframe tbody tr th:only-of-type {\n",
       "        vertical-align: middle;\n",
       "    }\n",
       "\n",
       "    .dataframe tbody tr th {\n",
       "        vertical-align: top;\n",
       "    }\n",
       "\n",
       "    .dataframe thead th {\n",
       "        text-align: right;\n",
       "    }\n",
       "</style>\n",
       "<table border=\"1\" class=\"dataframe\">\n",
       "  <thead>\n",
       "    <tr style=\"text-align: right;\">\n",
       "      <th></th>\n",
       "      <th>user_id</th>\n",
       "      <th>liked_event_id</th>\n",
       "      <th>liked_event_organizer_id</th>\n",
       "      <th>like_id</th>\n",
       "    </tr>\n",
       "  </thead>\n",
       "  <tbody>\n",
       "    <tr>\n",
       "      <th>0</th>\n",
       "      <td>beca0aa6-bebd-4c34-9c5b-03edf7b71dc5</td>\n",
       "      <td>f9a6a40e-3b6b-4954-b45a-1c077358587b</td>\n",
       "      <td>60c5d29a-cd56-4a6d-83d8-8417f7dd8c45</td>\n",
       "      <td>3987e583-1fe8-4ec2-a973-914b2b497848</td>\n",
       "    </tr>\n",
       "    <tr>\n",
       "      <th>1</th>\n",
       "      <td>2b655047-c558-4fd6-a952-8e61969550e3</td>\n",
       "      <td>b81ab92e-0e6e-4b9b-ad50-6ac361b85a3f</td>\n",
       "      <td>dd0b548a-76c5-4bd0-8527-87ee47c7ae60</td>\n",
       "      <td>1b4c0bfb-f886-4e54-b24d-9b3dcea0e36f</td>\n",
       "    </tr>\n",
       "    <tr>\n",
       "      <th>2</th>\n",
       "      <td>a4a20a50-abfd-4ee8-9741-4e22eaf821d0</td>\n",
       "      <td>f604439a-66bc-4ad5-a35c-c4e5368dd7b0</td>\n",
       "      <td>e163a007-2139-427d-b878-58eaa2a5c81b</td>\n",
       "      <td>54e3b8d8-0653-4466-a05a-712a0069dcec</td>\n",
       "    </tr>\n",
       "    <tr>\n",
       "      <th>3</th>\n",
       "      <td>8cea2d02-9bed-4519-b33a-ba712767cf45</td>\n",
       "      <td>03cbfc57-67fa-4f76-aad8-d64fb28002f6</td>\n",
       "      <td>e87902c3-c62e-48b6-9b1a-851f9dc164ae</td>\n",
       "      <td>2b8f7076-743d-4208-a84e-9d214d36705d</td>\n",
       "    </tr>\n",
       "    <tr>\n",
       "      <th>4</th>\n",
       "      <td>6b91fcbb-b8bf-4ca7-90f4-1de83c0f5257</td>\n",
       "      <td>b541a36d-2e0b-4eda-ac96-eab938b5249c</td>\n",
       "      <td>81263b9c-871f-45a1-be63-93425afc20d3</td>\n",
       "      <td>d9e6f46c-45b3-4c15-acc4-767f9e382abd</td>\n",
       "    </tr>\n",
       "  </tbody>\n",
       "</table>\n",
       "</div>"
      ],
      "text/plain": [
       "                                user_id                        liked_event_id  \\\n",
       "0  beca0aa6-bebd-4c34-9c5b-03edf7b71dc5  f9a6a40e-3b6b-4954-b45a-1c077358587b   \n",
       "1  2b655047-c558-4fd6-a952-8e61969550e3  b81ab92e-0e6e-4b9b-ad50-6ac361b85a3f   \n",
       "2  a4a20a50-abfd-4ee8-9741-4e22eaf821d0  f604439a-66bc-4ad5-a35c-c4e5368dd7b0   \n",
       "3  8cea2d02-9bed-4519-b33a-ba712767cf45  03cbfc57-67fa-4f76-aad8-d64fb28002f6   \n",
       "4  6b91fcbb-b8bf-4ca7-90f4-1de83c0f5257  b541a36d-2e0b-4eda-ac96-eab938b5249c   \n",
       "\n",
       "               liked_event_organizer_id                               like_id  \n",
       "0  60c5d29a-cd56-4a6d-83d8-8417f7dd8c45  3987e583-1fe8-4ec2-a973-914b2b497848  \n",
       "1  dd0b548a-76c5-4bd0-8527-87ee47c7ae60  1b4c0bfb-f886-4e54-b24d-9b3dcea0e36f  \n",
       "2  e163a007-2139-427d-b878-58eaa2a5c81b  54e3b8d8-0653-4466-a05a-712a0069dcec  \n",
       "3  e87902c3-c62e-48b6-9b1a-851f9dc164ae  2b8f7076-743d-4208-a84e-9d214d36705d  \n",
       "4  81263b9c-871f-45a1-be63-93425afc20d3  d9e6f46c-45b3-4c15-acc4-767f9e382abd  "
      ]
     },
     "execution_count": 6,
     "metadata": {},
     "output_type": "execute_result"
    }
   ],
   "source": [
    "data1 = pd.read_csv(\"artifacts/data_ingestion/generated_data/bookings.csv\")\n",
    "data2 = pd.read_csv(\"artifacts/data_ingestion/generated_data/comments.csv\")\n",
    "data3 = pd.read_csv(\"artifacts/data_ingestion/generated_data/likes.csv\")\n",
    "data1.head()\n",
    "data2.head()\n",
    "data3.head()"
   ]
  },
  {
   "cell_type": "code",
   "execution_count": 7,
   "id": "3cb2f7a5",
   "metadata": {},
   "outputs": [
    {
     "name": "stdout",
     "output_type": "stream",
     "text": [
      "<class 'pandas.core.frame.DataFrame'>\n",
      "RangeIndex: 150000 entries, 0 to 149999\n",
      "Data columns (total 4 columns):\n",
      " #   Column                     Non-Null Count   Dtype \n",
      "---  ------                     --------------   ----- \n",
      " 0   user_id                    150000 non-null  object\n",
      " 1   booked_event_id            150000 non-null  object\n",
      " 2   booked_event_organizer_id  150000 non-null  object\n",
      " 3   booking_id                 150000 non-null  object\n",
      "dtypes: object(4)\n",
      "memory usage: 4.6+ MB\n"
     ]
    }
   ],
   "source": [
    "data1.info()"
   ]
  },
  {
   "cell_type": "code",
   "execution_count": 8,
   "id": "d1c41425",
   "metadata": {},
   "outputs": [],
   "source": [
    "from dataclasses import dataclass\n",
    "from pathlib import Path\n",
    "\n",
    "\n",
    "@dataclass(frozen=True)\n",
    "class DataValidationConfig:\n",
    "    root_dir: Path\n",
    "    STATUS_FILE: str\n",
    "    merged_data_url: Path\n",
    "    unzip_data_dir: Path\n",
    "    all_schema: dict"
   ]
  },
  {
   "cell_type": "code",
   "execution_count": 9,
   "id": "78235de1",
   "metadata": {},
   "outputs": [],
   "source": [
    "from src.hybrid_recommender.constants import *\n",
    "from src.hybrid_recommender.utils.common import read_yaml, create_directories"
   ]
  },
  {
   "cell_type": "code",
   "execution_count": 10,
   "id": "9f8582a4",
   "metadata": {},
   "outputs": [],
   "source": [
    "class ConfigurationManager:\n",
    "    def __init__(\n",
    "        self,\n",
    "        config_filepath = CONFIG_FILE_PATH,\n",
    "        params_filepath = PARAMS_FILE_PATH,\n",
    "        schema_filepath = SCHEMA_FILE_PATH):\n",
    "\n",
    "        self.config = read_yaml(config_filepath)\n",
    "        self.params = read_yaml(params_filepath)\n",
    "        self.schema = read_yaml(schema_filepath)\n",
    "\n",
    "        create_directories([self.config.artifacts_root])\n",
    "\n",
    "\n",
    "    \n",
    "    def get_data_validation_config(self) -> DataValidationConfig:\n",
    "        config = self.config.data_validation\n",
    "        schema = self.schema.COLUMNS\n",
    "\n",
    "        create_directories([config.root_dir])\n",
    "\n",
    "        data_validation_config = DataValidationConfig(\n",
    "            root_dir=config.root_dir,\n",
    "            STATUS_FILE=config.STATUS_FILE,\n",
    "            unzip_data_dir = config.unzip_data_dir,\n",
    "            merged_data_url = config.merged_data_url,\n",
    "            all_schema=schema,\n",
    "        )\n",
    "\n",
    "        return data_validation_config"
   ]
  },
  {
   "cell_type": "code",
   "execution_count": 11,
   "id": "4fbeea75",
   "metadata": {},
   "outputs": [],
   "source": [
    "import os\n",
    "from src.hybrid_recommender import logger\n"
   ]
  },
  {
   "cell_type": "code",
   "execution_count": 12,
   "id": "2da2fd8d",
   "metadata": {},
   "outputs": [],
   "source": [
    "class DataValiadtion:\n",
    "    def __init__(self, config: DataValidationConfig):\n",
    "        self.config = config\n",
    "\n",
    "\n",
    "    def validate_all_columns(self)-> bool:\n",
    "        try:\n",
    "            validation_status = None\n",
    "\n",
    "            data = pd.read_csv(self.config.merged_data_url)\n",
    "            all_cols = list(data.columns)\n",
    "\n",
    "            all_schema = self.config.all_schema.keys()\n",
    "\n",
    "            \n",
    "            for col in all_cols:\n",
    "                if col not in all_schema:\n",
    "                    validation_status = False\n",
    "                    with open(self.config.STATUS_FILE, 'w') as f:\n",
    "                        f.write(f\"Validation status: {validation_status}\")\n",
    "                else:\n",
    "                    validation_status = True\n",
    "                    with open(self.config.STATUS_FILE, 'w') as f:\n",
    "                        f.write(f\"Validation status: {validation_status}\")\n",
    "\n",
    "            return validation_status\n",
    "        \n",
    "        except Exception as e:\n",
    "            raise e"
   ]
  },
  {
   "cell_type": "code",
   "execution_count": 13,
   "id": "9460d604",
   "metadata": {},
   "outputs": [
    {
     "name": "stdout",
     "output_type": "stream",
     "text": [
      "[2025-06-30 21:47:14,730: INFO: common: yaml file: config\\config.yaml loaded successfully]\n",
      "[2025-06-30 21:47:14,744: INFO: common: yaml file: params.yaml loaded successfully]\n",
      "[2025-06-30 21:47:14,751: INFO: common: yaml file: schema.yaml loaded successfully]\n",
      "[2025-06-30 21:47:14,753: INFO: common: created directory at: artifacts]\n",
      "[2025-06-30 21:47:14,753: INFO: common: created directory at: artifacts/data_validation]\n"
     ]
    }
   ],
   "source": [
    "try:\n",
    "    config = ConfigurationManager()\n",
    "    data_validation_config = config.get_data_validation_config()\n",
    "    data_validation = DataValiadtion(config=data_validation_config)\n",
    "    data_validation.validate_all_columns()\n",
    "except Exception as e:\n",
    "    raise e"
   ]
  }
 ],
 "metadata": {
  "kernelspec": {
   "display_name": "recommendation-engine-env",
   "language": "python",
   "name": "python3"
  },
  "language_info": {
   "codemirror_mode": {
    "name": "ipython",
    "version": 3
   },
   "file_extension": ".py",
   "mimetype": "text/x-python",
   "name": "python",
   "nbconvert_exporter": "python",
   "pygments_lexer": "ipython3",
   "version": "3.12.3"
  }
 },
 "nbformat": 4,
 "nbformat_minor": 5
}
