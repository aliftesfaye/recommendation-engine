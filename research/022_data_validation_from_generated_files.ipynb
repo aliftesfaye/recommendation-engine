{
 "cells": [
  {
   "cell_type": "code",
   "execution_count": 1,
   "id": "37a5cb3b",
   "metadata": {},
   "outputs": [],
   "source": [
    "import os"
   ]
  },
  {
   "cell_type": "code",
   "execution_count": 2,
   "id": "50461168",
   "metadata": {},
   "outputs": [
    {
     "data": {
      "text/plain": [
       "'d:\\\\recommendation-engine\\\\research'"
      ]
     },
     "execution_count": 2,
     "metadata": {},
     "output_type": "execute_result"
    }
   ],
   "source": [
    "%pwd"
   ]
  },
  {
   "cell_type": "code",
   "execution_count": 3,
   "id": "cadc0243",
   "metadata": {},
   "outputs": [],
   "source": [
    "os.chdir(\"../\")"
   ]
  },
  {
   "cell_type": "code",
   "execution_count": 4,
   "id": "83f86aac",
   "metadata": {},
   "outputs": [
    {
     "data": {
      "text/plain": [
       "'d:\\\\recommendation-engine'"
      ]
     },
     "execution_count": 4,
     "metadata": {},
     "output_type": "execute_result"
    }
   ],
   "source": [
    "%pwd"
   ]
  },
  {
   "cell_type": "code",
   "execution_count": 5,
   "id": "d9c8792d",
   "metadata": {},
   "outputs": [],
   "source": [
    "import pandas as pd"
   ]
  },
  {
   "cell_type": "code",
   "execution_count": 6,
   "id": "c9e97958",
   "metadata": {},
   "outputs": [
    {
     "data": {
      "text/html": [
       "<div>\n",
       "<style scoped>\n",
       "    .dataframe tbody tr th:only-of-type {\n",
       "        vertical-align: middle;\n",
       "    }\n",
       "\n",
       "    .dataframe tbody tr th {\n",
       "        vertical-align: top;\n",
       "    }\n",
       "\n",
       "    .dataframe thead th {\n",
       "        text-align: right;\n",
       "    }\n",
       "</style>\n",
       "<table border=\"1\" class=\"dataframe\">\n",
       "  <thead>\n",
       "    <tr style=\"text-align: right;\">\n",
       "      <th></th>\n",
       "      <th>user_id</th>\n",
       "      <th>liked_event_id</th>\n",
       "      <th>liked_event_organizer_id</th>\n",
       "      <th>like_id</th>\n",
       "    </tr>\n",
       "  </thead>\n",
       "  <tbody>\n",
       "    <tr>\n",
       "      <th>0</th>\n",
       "      <td>1e896ff4-117b-4484-ac1d-fe3e753a4914</td>\n",
       "      <td>23f7e309-a99d-41a6-afa3-a05e33ba5432</td>\n",
       "      <td>b7a02932-0ce0-4769-9a3b-e4a398838ddf</td>\n",
       "      <td>b033d198-4984-4370-aa0c-c3d08399bde9</td>\n",
       "    </tr>\n",
       "    <tr>\n",
       "      <th>1</th>\n",
       "      <td>6d6c7236-649e-4b05-99e9-ddb085891243</td>\n",
       "      <td>03690412-d735-442b-bd09-8e55333c4ff1</td>\n",
       "      <td>853b4ab4-d45d-4fec-93cd-b74b044bb43a</td>\n",
       "      <td>6fa85722-896b-4bda-a8d3-dc70e82c7b90</td>\n",
       "    </tr>\n",
       "    <tr>\n",
       "      <th>2</th>\n",
       "      <td>b69ecd8b-a0cf-45fe-9916-3fe400c81cc9</td>\n",
       "      <td>74afaf8f-0e27-4e69-8a07-7795b4d2dca5</td>\n",
       "      <td>0a83494b-7db2-4f9d-9d77-58ec9cdb8c5f</td>\n",
       "      <td>ce741b3d-d137-4744-8ec4-4f00f9b954f7</td>\n",
       "    </tr>\n",
       "    <tr>\n",
       "      <th>3</th>\n",
       "      <td>e6cd18fa-dd5f-4cf5-b45c-d30d9c957085</td>\n",
       "      <td>95a4ee4c-f65d-422b-be57-ee954a9e19f3</td>\n",
       "      <td>918faa93-f824-4c15-8106-0a75a421f132</td>\n",
       "      <td>ff6fa94b-9d51-4b3f-b252-f1d7b0018c84</td>\n",
       "    </tr>\n",
       "    <tr>\n",
       "      <th>4</th>\n",
       "      <td>ad574736-b69c-44d9-9848-7902615012f5</td>\n",
       "      <td>20487871-ae5b-42f4-a1ed-ddd467748d6d</td>\n",
       "      <td>24b778a8-b330-4434-b505-3d9946db125c</td>\n",
       "      <td>079ebc49-6005-459b-9446-187d53443263</td>\n",
       "    </tr>\n",
       "  </tbody>\n",
       "</table>\n",
       "</div>"
      ],
      "text/plain": [
       "                                user_id                        liked_event_id  \\\n",
       "0  1e896ff4-117b-4484-ac1d-fe3e753a4914  23f7e309-a99d-41a6-afa3-a05e33ba5432   \n",
       "1  6d6c7236-649e-4b05-99e9-ddb085891243  03690412-d735-442b-bd09-8e55333c4ff1   \n",
       "2  b69ecd8b-a0cf-45fe-9916-3fe400c81cc9  74afaf8f-0e27-4e69-8a07-7795b4d2dca5   \n",
       "3  e6cd18fa-dd5f-4cf5-b45c-d30d9c957085  95a4ee4c-f65d-422b-be57-ee954a9e19f3   \n",
       "4  ad574736-b69c-44d9-9848-7902615012f5  20487871-ae5b-42f4-a1ed-ddd467748d6d   \n",
       "\n",
       "               liked_event_organizer_id                               like_id  \n",
       "0  b7a02932-0ce0-4769-9a3b-e4a398838ddf  b033d198-4984-4370-aa0c-c3d08399bde9  \n",
       "1  853b4ab4-d45d-4fec-93cd-b74b044bb43a  6fa85722-896b-4bda-a8d3-dc70e82c7b90  \n",
       "2  0a83494b-7db2-4f9d-9d77-58ec9cdb8c5f  ce741b3d-d137-4744-8ec4-4f00f9b954f7  \n",
       "3  918faa93-f824-4c15-8106-0a75a421f132  ff6fa94b-9d51-4b3f-b252-f1d7b0018c84  \n",
       "4  24b778a8-b330-4434-b505-3d9946db125c  079ebc49-6005-459b-9446-187d53443263  "
      ]
     },
     "execution_count": 6,
     "metadata": {},
     "output_type": "execute_result"
    }
   ],
   "source": [
    "data1 = pd.read_csv(\"artifacts/data_ingestion/generated_data/bookings.csv\")\n",
    "data2 = pd.read_csv(\"artifacts/data_ingestion/generated_data/comments.csv\")\n",
    "data3 = pd.read_csv(\"artifacts/data_ingestion/generated_data/likes.csv\")\n",
    "data1.head()\n",
    "data2.head()\n",
    "data3.head()"
   ]
  },
  {
   "cell_type": "code",
   "execution_count": 7,
   "id": "3cb2f7a5",
   "metadata": {},
   "outputs": [
    {
     "name": "stdout",
     "output_type": "stream",
     "text": [
      "<class 'pandas.core.frame.DataFrame'>\n",
      "RangeIndex: 150000 entries, 0 to 149999\n",
      "Data columns (total 4 columns):\n",
      " #   Column                     Non-Null Count   Dtype \n",
      "---  ------                     --------------   ----- \n",
      " 0   user_id                    150000 non-null  object\n",
      " 1   booked_event_id            150000 non-null  object\n",
      " 2   booked_event_organizer_id  150000 non-null  object\n",
      " 3   booking_id                 150000 non-null  object\n",
      "dtypes: object(4)\n",
      "memory usage: 4.6+ MB\n"
     ]
    }
   ],
   "source": [
    "data1.info()"
   ]
  },
  {
   "cell_type": "code",
   "execution_count": 8,
   "id": "d1c41425",
   "metadata": {},
   "outputs": [],
   "source": [
    "from dataclasses import dataclass\n",
    "from pathlib import Path\n",
    "\n",
    "\n",
    "@dataclass(frozen=True)\n",
    "class DataValidationConfig:\n",
    "    root_dir: Path\n",
    "    STATUS_FILE: str\n",
    "    merged_data_url: Path\n",
    "    unzip_data_dir: Path\n",
    "    all_schema: dict"
   ]
  },
  {
   "cell_type": "code",
   "execution_count": 9,
   "id": "78235de1",
   "metadata": {},
   "outputs": [],
   "source": [
    "from src.hybrid_recommender.constants import *\n",
    "from src.hybrid_recommender.utils.common import read_yaml, create_directories"
   ]
  },
  {
   "cell_type": "code",
   "execution_count": 10,
   "id": "9f8582a4",
   "metadata": {},
   "outputs": [],
   "source": [
    "class ConfigurationManager:\n",
    "    def __init__(\n",
    "        self,\n",
    "        config_filepath = CONFIG_FILE_PATH,\n",
    "        params_filepath = PARAMS_FILE_PATH,\n",
    "        schema_filepath = SCHEMA_FILE_PATH):\n",
    "\n",
    "        self.config = read_yaml(config_filepath)\n",
    "        self.params = read_yaml(params_filepath)\n",
    "        self.schema = read_yaml(schema_filepath)\n",
    "\n",
    "        create_directories([self.config.artifacts_root])\n",
    "\n",
    "\n",
    "    \n",
    "    def get_data_validation_config(self) -> DataValidationConfig:\n",
    "        config = self.config.data_validation\n",
    "        schema = self.schema.COLUMNS\n",
    "\n",
    "        create_directories([config.root_dir])\n",
    "\n",
    "        data_validation_config = DataValidationConfig(\n",
    "            root_dir=config.root_dir,\n",
    "            STATUS_FILE=config.STATUS_FILE,\n",
    "            unzip_data_dir = config.unzip_data_dir,\n",
    "            merged_data_url = config.merged_data_url,\n",
    "            all_schema=schema,\n",
    "        )\n",
    "\n",
    "        return data_validation_config"
   ]
  },
  {
   "cell_type": "code",
   "execution_count": 11,
   "id": "4fbeea75",
   "metadata": {},
   "outputs": [],
   "source": [
    "import os\n",
    "from src.hybrid_recommender import logger\n"
   ]
  },
  {
   "cell_type": "code",
   "execution_count": 12,
   "id": "2da2fd8d",
   "metadata": {},
   "outputs": [],
   "source": [
    "class DataValiadtion:\n",
    "    def __init__(self, config: DataValidationConfig):\n",
    "        self.config = config\n",
    "\n",
    "\n",
    "    def validate_all_columns(self)-> bool:\n",
    "        try:\n",
    "            validation_status = None\n",
    "\n",
    "            data = pd.read_csv(self.config.merged_data_url)\n",
    "            all_cols = list(data.columns)\n",
    "\n",
    "            all_schema = self.config.all_schema.keys()\n",
    "\n",
    "            \n",
    "            for col in all_cols:\n",
    "                if col not in all_schema:\n",
    "                    validation_status = False\n",
    "                    with open(self.config.STATUS_FILE, 'w') as f:\n",
    "                        f.write(f\"Validation status: {validation_status}\")\n",
    "                else:\n",
    "                    validation_status = True\n",
    "                    with open(self.config.STATUS_FILE, 'w') as f:\n",
    "                        f.write(f\"Validation status: {validation_status}\")\n",
    "\n",
    "            return validation_status\n",
    "        \n",
    "        except Exception as e:\n",
    "            raise e"
   ]
  },
  {
   "cell_type": "code",
   "execution_count": 13,
   "id": "9460d604",
   "metadata": {},
   "outputs": [
    {
     "name": "stdout",
     "output_type": "stream",
     "text": [
      "[2025-06-30 16:29:00,940: INFO: common: yaml file: config\\config.yaml loaded successfully]\n",
      "[2025-06-30 16:29:00,942: INFO: common: yaml file: params.yaml loaded successfully]\n",
      "[2025-06-30 16:29:00,944: INFO: common: yaml file: schema.yaml loaded successfully]\n",
      "[2025-06-30 16:29:00,945: INFO: common: created directory at: artifacts]\n",
      "[2025-06-30 16:29:00,945: INFO: common: created directory at: artifacts/data_validation]\n"
     ]
    }
   ],
   "source": [
    "try:\n",
    "    config = ConfigurationManager()\n",
    "    data_validation_config = config.get_data_validation_config()\n",
    "    data_validation = DataValiadtion(config=data_validation_config)\n",
    "    data_validation.validate_all_columns()\n",
    "except Exception as e:\n",
    "    raise e"
   ]
  }
 ],
 "metadata": {
  "kernelspec": {
   "display_name": "recommendation-engine-env",
   "language": "python",
   "name": "python3"
  },
  "language_info": {
   "codemirror_mode": {
    "name": "ipython",
    "version": 3
   },
   "file_extension": ".py",
   "mimetype": "text/x-python",
   "name": "python",
   "nbconvert_exporter": "python",
   "pygments_lexer": "ipython3",
   "version": "3.12.3"
  }
 },
 "nbformat": 4,
 "nbformat_minor": 5
}
